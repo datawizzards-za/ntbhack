{
 "cells": [
  {
   "cell_type": "code",
   "execution_count": 1,
   "metadata": {},
   "outputs": [],
   "source": [
    "import os\n",
    "os.environ.setdefault('DJANGO_SETTINGS_MODULE', 'myzaka.settings')\n",
    "import django\n",
    "django.setup()\n",
    "\n",
    "import urllib3\n",
    "import requests\n",
    "import pandas as pd"
   ]
  },
  {
   "cell_type": "code",
   "execution_count": 2,
   "metadata": {},
   "outputs": [],
   "source": [
    "from app import models\n",
    "\n",
    "from sqlalchemy import create_engine\n",
    "engine = create_engine('sqlite:///myzakadb.sqlite3')"
   ]
  },
  {
   "cell_type": "code",
   "execution_count": 3,
   "metadata": {},
   "outputs": [
    {
     "data": {
      "text/plain": [
       "['app_audits',\n",
       " 'app_balancesheet',\n",
       " 'app_capital',\n",
       " 'app_cashflow',\n",
       " 'app_forecast',\n",
       " 'app_incomeexpense',\n",
       " 'app_maintenance',\n",
       " 'app_municipalities',\n",
       " 'app_municipalities_audits',\n",
       " 'app_municipalities_balance_sheets',\n",
       " 'app_municipalities_capital',\n",
       " 'app_municipalities_cash_flows',\n",
       " 'app_municipalities_forecasts',\n",
       " 'app_municipalities_income_expense',\n",
       " 'app_municipalities_maintenance',\n",
       " 'app_municipalities_officials',\n",
       " 'app_municipalities_wasteful',\n",
       " 'app_officials',\n",
       " 'app_wastefulexpenditure',\n",
       " 'auth_group',\n",
       " 'auth_group_permissions',\n",
       " 'auth_permission',\n",
       " 'auth_user',\n",
       " 'auth_user_groups',\n",
       " 'auth_user_user_permissions',\n",
       " 'django_admin_log',\n",
       " 'django_content_type',\n",
       " 'django_migrations',\n",
       " 'django_session',\n",
       " 'sqlite_sequence']"
      ]
     },
     "execution_count": 3,
     "metadata": {},
     "output_type": "execute_result"
    }
   ],
   "source": [
    "engine.table_names()"
   ]
  },
  {
   "cell_type": "markdown",
   "metadata": {},
   "source": [
    "\n",
    "### Generate Officials data"
   ]
  },
  {
   "cell_type": "code",
   "execution_count": 4,
   "metadata": {},
   "outputs": [],
   "source": [
    "try:\n",
    "    officials = pd.DataFrame(requests.get('https://municipaldata.treasury.gov.za/api/cubes/officials/facts',\n",
    "                                          allow_redirects=True).json()['data'])\n",
    "\n",
    "    officials.fillna('not availiable', inplace=True)\n",
    "    for col in officials.columns:\n",
    "        officials[col] = officials[col].apply(lambda x: str(x).lower())\n",
    "\n",
    "    officials = officials[['contact_details.title',  'role.role', 'contact_details.name',  'contact_details.email_address', \n",
    "               'contact_details.fax_number', 'contact_details.phone_number', 'municipality.demarcation_code']]\n",
    "\n",
    "    officials.rename(columns={'contact_details.title':'title',  'role.role':'role', 'contact_details.name':'name',  \n",
    "                                                            'contact_details.email_address':'email_address', 'contact_details.fax_number':'fax_number', \n",
    "                                                             'contact_details.phone_number':'phone_number', 'municipality.demarcation_code':'demarcation_code'}, inplace=True)\n",
    "    officials.drop_duplicates(inplace=True)\n",
    "\n",
    "    models.Officials.objects.all().delete()\n",
    "    officials.to_sql('app_officials', engine, if_exists='append', index=False)\n",
    "    models.Officials.objects.count()\n",
    "except Exception as ex:\n",
    "    print(\"ERROR:\", ex)"
   ]
  },
  {
   "cell_type": "markdown",
   "metadata": {},
   "source": [
    "### Generate BalanceSheet data"
   ]
  },
  {
   "cell_type": "code",
   "execution_count": 5,
   "metadata": {},
   "outputs": [],
   "source": [
    "try:\n",
    "    balance_sheet = pd.DataFrame(requests.get('https://municipaldata.treasury.gov.za/api/cubes/bsheet/facts',\n",
    "                                          allow_redirects=True).json()['data'])\n",
    "\n",
    "    balance_sheet.amount = balance_sheet.amount.transform(lambda x: x.fillna('0'))\n",
    "\n",
    "    for col in balance_sheet.columns:\n",
    "        balance_sheet[col] = balance_sheet[col].apply(lambda x: str(x).lower())\n",
    "\n",
    "    balance_sheet = balance_sheet[['demarcation.label', 'demarcation.code', 'financial_year_end.year', 'amount', 'item.label', 'amount_type.label']]\n",
    "    balance_sheet.rename(columns={'demarcation.code':'demarcation_code', 'demarcation.label':'demarcation_label', \n",
    "                              'financial_year_end.year':'financial_year_end', 'item.label':'item_label', \n",
    "                              'amount':'amount', 'amount_type.label':'amount_type'}, inplace=True)\n",
    "    balance_sheet.amount = balance_sheet.amount.transform(lambda x: float(x))\n",
    "    balance_sheet.financial_year_end = balance_sheet.financial_year_end.transform(lambda x: int(x))\n",
    "\n",
    "    balance_sheet = balance_sheet.sort_values(by=['financial_year_end', 'amount'], ascending=False)\n",
    "    balance_sheet.drop_duplicates(inplace=True, subset=['demarcation_code', \n",
    "                                          'financial_year_end','item_label', 'amount_type'])\n",
    "\n",
    "    balance_sheet.fillna('not availiable', inplace=True)\n",
    "    models.BalanceSheet.objects.all().delete()\n",
    "    balance_sheet.to_sql('app_balancesheet', engine, if_exists='append', index=False)\n",
    "    models.BalanceSheet.objects.count()\n",
    "    \n",
    "except Exception as ex:\n",
    "    print(\"ERROR:\", ex)"
   ]
  },
  {
   "cell_type": "markdown",
   "metadata": {},
   "source": [
    "### Generate Cash Flow data"
   ]
  },
  {
   "cell_type": "code",
   "execution_count": 6,
   "metadata": {},
   "outputs": [
    {
     "name": "stderr",
     "output_type": "stream",
     "text": [
      "/Users/mabu/anaconda2/envs/ntbhack/lib/python3.6/site-packages/pandas/core/frame.py:2746: SettingWithCopyWarning: \n",
      "A value is trying to be set on a copy of a slice from a DataFrame\n",
      "\n",
      "See the caveats in the documentation: http://pandas.pydata.org/pandas-docs/stable/indexing.html#indexing-view-versus-copy\n",
      "  **kwargs)\n",
      "/Users/mabu/anaconda2/envs/ntbhack/lib/python3.6/site-packages/pandas/core/generic.py:3110: SettingWithCopyWarning: \n",
      "A value is trying to be set on a copy of a slice from a DataFrame.\n",
      "Try using .loc[row_indexer,col_indexer] = value instead\n",
      "\n",
      "See the caveats in the documentation: http://pandas.pydata.org/pandas-docs/stable/indexing.html#indexing-view-versus-copy\n",
      "  self[name] = value\n"
     ]
    }
   ],
   "source": [
    "try:\n",
    "    cash_flows = pd.DataFrame(requests.get('https://municipaldata.treasury.gov.za/api/cubes/cflow/facts',\n",
    "                                          allow_redirects=True).json()['data'])\n",
    "\n",
    "    cash_flows.amount = cash_flows.amount.transform(lambda x: x.fillna('0'))\n",
    "\n",
    "    for col in cash_flows.columns:\n",
    "        cash_flows[col] = cash_flows[col].apply(lambda x: str(x).lower())\n",
    "\n",
    "    cash_flows_df = cash_flows[['amount_type.label', 'demarcation.code', 'financial_year_end.year', 'amount', 'item.label']]\n",
    "    cash_flows_df.rename(columns={'demarcation.code':'demarcation_code', 'amount_type.label':'amount_type', \n",
    "                              'financial_year_end.year':'financial_year_end', 'item.label':'item_label'}, inplace=True)\n",
    "    cash_flows_df.amount = cash_flows_df.amount.transform(lambda x: float(x))\n",
    "    cash_flows_df.financial_year_end = cash_flows_df.financial_year_end.transform(lambda x: int(x))\n",
    "\n",
    "    cash_flows_df = cash_flows_df.sort_values(by=['financial_year_end', 'amount'], ascending=False)\n",
    "    cash_flows_df.drop_duplicates(inplace=True, subset=['demarcation_code', 'amount_type',\n",
    "                                                       'financial_year_end', 'item_label'])\n",
    "\n",
    "    cash_flows_df.fillna('not availiable', inplace=True)\n",
    "    models.CashFlow.objects.all().delete()\n",
    "    cash_flows_df.to_sql('app_cashflow', engine, if_exists='append', index=False)\n",
    "    models.CashFlow.objects.count()\n",
    "    \n",
    "except Exception as ex:\n",
    "    print(\"ERROR:\", ex)"
   ]
  },
  {
   "cell_type": "markdown",
   "metadata": {
    "collapsed": true
   },
   "source": [
    "### Generate Maintenance data"
   ]
  },
  {
   "cell_type": "code",
   "execution_count": 7,
   "metadata": {},
   "outputs": [
    {
     "name": "stderr",
     "output_type": "stream",
     "text": [
      "/Users/mabu/anaconda2/envs/ntbhack/lib/python3.6/site-packages/pandas/core/frame.py:2746: SettingWithCopyWarning: \n",
      "A value is trying to be set on a copy of a slice from a DataFrame\n",
      "\n",
      "See the caveats in the documentation: http://pandas.pydata.org/pandas-docs/stable/indexing.html#indexing-view-versus-copy\n",
      "  **kwargs)\n",
      "/Users/mabu/anaconda2/envs/ntbhack/lib/python3.6/site-packages/pandas/core/generic.py:3110: SettingWithCopyWarning: \n",
      "A value is trying to be set on a copy of a slice from a DataFrame.\n",
      "Try using .loc[row_indexer,col_indexer] = value instead\n",
      "\n",
      "See the caveats in the documentation: http://pandas.pydata.org/pandas-docs/stable/indexing.html#indexing-view-versus-copy\n",
      "  self[name] = value\n"
     ]
    }
   ],
   "source": [
    "try:\n",
    "    repairs = pd.DataFrame(requests.get('https://municipaldata.treasury.gov.za/api/cubes/repmaint/facts',\n",
    "                                          allow_redirects=True).json()['data'])\n",
    "\n",
    "    repairs.amount = repairs.amount.transform(lambda x: x.fillna('0'))\n",
    "    for col in repairs.columns:\n",
    "        repairs[col] = repairs[col].apply(lambda x: str(x).lower())\n",
    "\n",
    "    repairs_df = repairs[['amount_type.label', 'demarcation.code', 'financial_year_end.year', 'amount', 'item.label']]\n",
    "\n",
    "    repairs_df.rename(columns={'demarcation.code':'demarcation_code', 'amount_type.label':'amount_type', \n",
    "                              'financial_year_end.year':'financial_year_end', 'item.label':'item_label'}, inplace=True)\n",
    "    repairs_df.amount = repairs_df.amount.transform(lambda x: float(x))\n",
    "    repairs_df.financial_year_end = repairs_df.financial_year_end.transform(lambda x: int(x))\n",
    "\n",
    "    repairs_df = repairs_df.sort_values(by=['financial_year_end', 'amount'], ascending=False)\n",
    "    repairs_df.drop_duplicates(inplace=True, subset=['demarcation_code', 'amount_type',\n",
    "                                                       'financial_year_end', 'item_label'])\n",
    "\n",
    "    repairs_df.fillna('not availiable', inplace=True)\n",
    "    models.Maintenance.objects.all().delete()\n",
    "    repairs_df.to_sql('app_maintenance', engine, if_exists='append', index=False)\n",
    "    models.Maintenance.objects.count()\n",
    "    \n",
    "except Exception as ex:\n",
    "    print(\"ERROR:\", ex)"
   ]
  },
  {
   "cell_type": "code",
   "execution_count": 8,
   "metadata": {
    "collapsed": true
   },
   "outputs": [],
   "source": [
    "#repairs_df[(repairs_df['demarcation_code']=='buf') & (repairs_df['financial_year_end'] == '2012') & (repairs_df['item_label']=='contracted services')]"
   ]
  },
  {
   "cell_type": "code",
   "execution_count": 9,
   "metadata": {
    "collapsed": true
   },
   "outputs": [],
   "source": [
    "#repairs_df.groupby(['demarcation_code', 'financial_year_end', 'item_label']).count()"
   ]
  },
  {
   "cell_type": "markdown",
   "metadata": {},
   "source": [
    "### Generate Audits data"
   ]
  },
  {
   "cell_type": "code",
   "execution_count": 10,
   "metadata": {},
   "outputs": [
    {
     "name": "stderr",
     "output_type": "stream",
     "text": [
      "/Users/mabu/anaconda2/envs/ntbhack/lib/python3.6/site-packages/pandas/core/frame.py:2746: SettingWithCopyWarning: \n",
      "A value is trying to be set on a copy of a slice from a DataFrame\n",
      "\n",
      "See the caveats in the documentation: http://pandas.pydata.org/pandas-docs/stable/indexing.html#indexing-view-versus-copy\n",
      "  **kwargs)\n",
      "/Users/mabu/anaconda2/envs/ntbhack/lib/python3.6/site-packages/pandas/core/generic.py:3110: SettingWithCopyWarning: \n",
      "A value is trying to be set on a copy of a slice from a DataFrame.\n",
      "Try using .loc[row_indexer,col_indexer] = value instead\n",
      "\n",
      "See the caveats in the documentation: http://pandas.pydata.org/pandas-docs/stable/indexing.html#indexing-view-versus-copy\n",
      "  self[name] = value\n"
     ]
    }
   ],
   "source": [
    "try:\n",
    "    audits = pd.DataFrame(requests.get('https://municipaldata.treasury.gov.za/api/cubes/audit_opinions/facts',\n",
    "                                          allow_redirects=True).json()['data'])\n",
    "\n",
    "    audits.fillna('not availiable', inplace=True)\n",
    "    for col in audits.columns:\n",
    "        audits[col] = audits[col].apply(lambda x: str(x).lower())\n",
    "\n",
    "    audits_df = audits[['demarcation.code', 'demarcation.label', 'financial_year_end.year', 'opinion.label', 'opinion.report_url']]\n",
    "    audits_df.rename(columns={'demarcation.code':'demarcation_code', 'demarcation.label':'demarcation_label', \n",
    "                              'financial_year_end.year':'financial_year_end', 'opinion.label':'opinion', \n",
    "                              'opinion.report_url':'opinion_report_url'}, inplace=True)\n",
    "\n",
    "    audits_df.financial_year_end = audits_df.financial_year_end.transform(lambda x: int(x))\n",
    "\n",
    "    audits_df = audits_df.sort_values(by=['financial_year_end'], ascending=False)\n",
    "    audits_df.drop_duplicates(inplace=True) \n",
    "\n",
    "    models.Audits.objects.all().delete()\n",
    "    audits_df.to_sql('app_audits', engine, if_exists='append', index=False)\n",
    "    print(\"Object Count:\", models.Audits.objects.count())\n",
    "except Exception as ex:\n",
    "    print(\"ERROR:\", ex)"
   ]
  },
  {
   "cell_type": "markdown",
   "metadata": {},
   "source": [
    "### Generate WastefulExpese data"
   ]
  },
  {
   "cell_type": "code",
   "execution_count": null,
   "metadata": {},
   "outputs": [],
   "source": [
    "try:\n",
    "    wasteful = pd.DataFrame(requests.get('https://municipaldata.treasury.gov.za/api/cubes/uifwexp/facts',\n",
    "                                          allow_redirects=True).json()['data'])\n",
    "\n",
    "    wasteful.amount = wasteful.amount.transform(lambda x: x.fillna(0))\n",
    "\n",
    "    for col in wasteful.columns:\n",
    "        wasteful[col] = wasteful[col].apply(lambda x: str(x).lower())\n",
    "\n",
    "    wasteful.drop(['item.code'], axis=1, inplace=True)\n",
    "    wasteful.rename(columns={'demarcation.code':'demarcation_code', 'demarcation.label':'demarcation_label', \n",
    "                            'financial_year_end.year':'financial_year_end', 'item.label':'item_label'}, inplace=True)\n",
    "    wasteful.amount = wasteful.amount.transform(lambda x: float(x))\n",
    "    wasteful.financial_year_end = wasteful.financial_year_end.transform(lambda x: int(x))\n",
    "\n",
    "    wasteful = wasteful.sort_values(by=['financial_year_end', 'amount'], ascending=False)\n",
    "    wasteful.drop_duplicates(inplace=True)\n",
    "\n",
    "    wasteful.fillna('not availiable', inplace=True)\n",
    "    models.WastefulExpenditure.objects.all().delete()\n",
    "    wasteful.to_sql('app_wastefulexpenditure', engine, if_exists='append', index=False)\n",
    "    print(\"Object Count:\", models.WastefulExpenditure.objects.count())\n",
    "    \n",
    "except Exception as ex:\n",
    "    print(\"ERROR:\", ex)"
   ]
  },
  {
   "cell_type": "markdown",
   "metadata": {},
   "source": [
    "### Generate Capital Data"
   ]
  },
  {
   "cell_type": "code",
   "execution_count": null,
   "metadata": {},
   "outputs": [
    {
     "name": "stdout",
     "output_type": "stream",
     "text": [
      "processing 1 of 292, 291 remaining...\n",
      "processing 2 of 292, 290 remaining...\n",
      "processing 3 of 292, 289 remaining...\n",
      "processing 4 of 292, 288 remaining...\n",
      "processing 5 of 292, 287 remaining...\n",
      "processing 6 of 292, 286 remaining...\n",
      "processing 7 of 292, 285 remaining...\n",
      "processing 8 of 292, 284 remaining...\n",
      "processing 9 of 292, 283 remaining...\n",
      "processing 10 of 292, 282 remaining...\n",
      "processing 11 of 292, 281 remaining...\n",
      "processing 12 of 292, 280 remaining...\n",
      "processing 13 of 292, 279 remaining...\n",
      "processing 14 of 292, 278 remaining...\n",
      "processing 15 of 292, 277 remaining...\n",
      "processing 16 of 292, 276 remaining...\n",
      "processing 17 of 292, 275 remaining...\n",
      "processing 18 of 292, 274 remaining...\n",
      "processing 19 of 292, 273 remaining...\n",
      "processing 20 of 292, 272 remaining...\n",
      "processing 21 of 292, 271 remaining...\n",
      "processing 22 of 292, 270 remaining...\n",
      "processing 23 of 292, 269 remaining...\n",
      "processing 24 of 292, 268 remaining...\n",
      "processing 25 of 292, 267 remaining...\n",
      "processing 26 of 292, 266 remaining...\n",
      "processing 27 of 292, 265 remaining...\n",
      "processing 28 of 292, 264 remaining...\n",
      "processing 29 of 292, 263 remaining...\n",
      "processing 30 of 292, 262 remaining...\n",
      "processing 31 of 292, 261 remaining...\n",
      "processing 32 of 292, 260 remaining...\n",
      "processing 33 of 292, 259 remaining...\n",
      "processing 34 of 292, 258 remaining...\n",
      "processing 35 of 292, 257 remaining...\n",
      "processing 36 of 292, 256 remaining...\n",
      "processing 37 of 292, 255 remaining...\n",
      "processing 38 of 292, 254 remaining...\n",
      "processing 39 of 292, 253 remaining...\n",
      "processing 40 of 292, 252 remaining...\n",
      "processing 41 of 292, 251 remaining...\n",
      "processing 42 of 292, 250 remaining...\n",
      "processing 43 of 292, 249 remaining...\n",
      "processing 44 of 292, 248 remaining...\n",
      "processing 45 of 292, 247 remaining...\n",
      "processing 46 of 292, 246 remaining...\n",
      "processing 47 of 292, 245 remaining...\n",
      "processing 48 of 292, 244 remaining...\n",
      "processing 49 of 292, 243 remaining...\n",
      "processing 50 of 292, 242 remaining...\n",
      "processing 51 of 292, 241 remaining...\n",
      "processing 52 of 292, 240 remaining...\n",
      "processing 53 of 292, 239 remaining...\n",
      "processing 54 of 292, 238 remaining...\n",
      "processing 55 of 292, 237 remaining...\n",
      "processing 56 of 292, 236 remaining...\n",
      "processing 57 of 292, 235 remaining...\n",
      "processing 58 of 292, 234 remaining...\n",
      "processing 59 of 292, 233 remaining...\n",
      "processing 60 of 292, 232 remaining...\n",
      "processing 61 of 292, 231 remaining...\n",
      "processing 62 of 292, 230 remaining...\n",
      "processing 63 of 292, 229 remaining...\n",
      "processing 64 of 292, 228 remaining...\n",
      "processing 65 of 292, 227 remaining...\n",
      "processing 66 of 292, 226 remaining...\n",
      "processing 67 of 292, 225 remaining...\n",
      "processing 68 of 292, 224 remaining...\n",
      "processing 69 of 292, 223 remaining...\n",
      "processing 70 of 292, 222 remaining...\n",
      "processing 71 of 292, 221 remaining...\n"
     ]
    }
   ],
   "source": [
    "try:\n",
    "    munis = pd.DataFrame(list(models.Officials.objects.all().values()))\n",
    "    muni_codes = [str(x).upper() for x in pd.unique(munis.demarcation_code)]\n",
    "    models.Capital.objects.all().delete()\n",
    "    count = 1\n",
    "    for code in muni_codes:\n",
    "        print(\"processing {0} of {1}, {2} remaining...\".format(count, len(muni_codes), len(muni_codes) - count))\n",
    "        capital = pd.DataFrame(requests.get('https://municipaldata.treasury.gov.za/api/cubes/capital/aggregate?drilldown=demarcation.code|demarcation.label|item.label|financial_year_end.year|amount_type.label&cut=demarcation.code%3A%22' + code + '%22&aggregates=new_assets.sum|renewal_of_existing.sum|total_assets.sum',\n",
    "                                          allow_redirects=True).json()['cells'])\n",
    "\n",
    "        capital = capital[['amount_type.label', 'financial_year_end.year', 'item.label', \n",
    "                           'demarcation.code', 'demarcation.label', 'renewal_of_existing.sum', \n",
    "                           'total_assets.sum', 'new_assets.sum']]\n",
    "        capital.rename(columns={'amount_type.label':'amount_type', \n",
    "                                'new_assets.sum':'sum_new_assets',\n",
    "                                'financial_year_end.year':'financial_year_end', \n",
    "                                'renewal_of_existing.sum':'sum_renewed_assets', \n",
    "                                'item.label':'item_label', \n",
    "                                'total_assets.sum':'sum_total_assets',\n",
    "                                'demarcation.code':'demarcation_code', \n",
    "                                'demarcation.label':'demarcation_label'}, inplace=True)\n",
    "\n",
    "        capital.sum_new_assets = capital.sum_new_assets.transform(lambda x: x.fillna(0))\n",
    "        capital.sum_renewed_assets = capital.sum_renewed_assets.transform(lambda x: x.fillna(0))\n",
    "        capital.sum_total_assets = capital.sum_total_assets.transform(lambda x: x.fillna(0))\n",
    "\n",
    "        for col in capital.columns:\n",
    "            capital[col] = capital[col].apply(lambda x: str(x).lower())\n",
    "\n",
    "        capital.sum_new_assets = capital.sum_new_assets.transform(lambda x: float(x))\n",
    "        capital.sum_renewed_assets = capital.sum_renewed_assets.transform(lambda x: float(x))\n",
    "        capital.sum_total_assets = capital.sum_total_assets.transform(lambda x: float(x))\n",
    "        capital.financial_year_end = capital.financial_year_end.transform(lambda x: int(x))\n",
    "\n",
    "        capital = capital.sort_values(by=['financial_year_end', 'sum_total_assets', \n",
    "                                          'sum_renewed_assets', 'sum_new_assets'], ascending=False)\n",
    "        capital.drop_duplicates(inplace=True)\n",
    "\n",
    "        capital.fillna('not availiable', inplace=True)\n",
    "        models.Capital.objects.all().delete()\n",
    "        capital.to_sql('app_capital', engine, if_exists='append', index=False)\n",
    "        models.Capital.objects.count()\n",
    "        count += 1\n",
    "        \n",
    "except Exception as ex:\n",
    "    print(\"ERROR:\", ex)"
   ]
  },
  {
   "cell_type": "markdown",
   "metadata": {},
   "source": [
    "### Generate IncomeExpense data"
   ]
  },
  {
   "cell_type": "code",
   "execution_count": null,
   "metadata": {},
   "outputs": [],
   "source": [
    "try:\n",
    "    munis = pd.DataFrame(list(models.Officials.objects.all().values()))\n",
    "    muni_codes = [str(x).upper() for x in pd.unique(munis.demarcation_code)]\n",
    "    models.IncomeExpense.objects.all().delete()\n",
    "    count = 1\n",
    "    for code in muni_codes:\n",
    "        print(\"processing {0} of {1}, {2} remaining...\".format(count, len(muni_codes), len(muni_codes) - count))\n",
    "        incexp = pd.DataFrame(\n",
    "            requests.get('https://municipaldata.treasury.gov.za/api/cubes/incexp/aggregate?drilldown=amount_type.label|financial_year_end.year|demarcation.code|demarcation.label|item.label&cut=demarcation.code:%22'+ code +'%22&aggregates=amount.sum',\n",
    "                                          allow_redirects=True).json()['cells']\n",
    "        )\n",
    "\n",
    "        incexp['amount.sum'] = incexp['amount.sum'].transform(lambda x: x.fillna(0))\n",
    "        for col in incexp.columns:\n",
    "            incexp[col] = incexp[col].apply(lambda x: str(x).lower())\n",
    "\n",
    "        incexp = incexp[['amount_type.label', 'financial_year_end.year', 'item.label', 'demarcation.code', 'demarcation.label', 'amount.sum']]\n",
    "        incexp.rename(columns={'amount_type.label':'amount_type',  \n",
    "                               'financial_year_end.year':'financial_year_end', \n",
    "                               'amount.sum':'amount',\n",
    "                                'item.label':'item_label', 'demarcation.code':'demarcation_code', 'demarcation.label':'demarcation_label'}, \n",
    "                      inplace=True)\n",
    "        incexp.amount = incexp.amount.transform(lambda x: float(x))\n",
    "        incexp.financial_year_end = incexp.financial_year_end.transform(lambda x: int(x))\n",
    "\n",
    "        incexp = incexp.sort_values(by=['financial_year_end', 'amount'], ascending=False)\n",
    "        incexp.drop_duplicates(inplace=True)\n",
    "\n",
    "        incexp.fillna('not availiable', inplace=True)\n",
    "        incexp.groupby('financial_year_end').count()\n",
    "        incexp.to_sql('app_incomeexpense', engine, if_exists='append', index=False)\n",
    "        print(\"Row Count\", models.IncomeExpense.objects.count())\n",
    "        count += 1\n",
    "        \n",
    "except Exception as ex:\n",
    "    print(\"ERROR:\", ex)"
   ]
  },
  {
   "cell_type": "markdown",
   "metadata": {},
   "source": [
    "### Generate Munis data"
   ]
  },
  {
   "cell_type": "code",
   "execution_count": null,
   "metadata": {},
   "outputs": [],
   "source": [
    "munis = pd.DataFrame(requests.get('https://municipaldata.treasury.gov.za/api/cubes/municipalities/facts',\n",
    "                                      allow_redirects=True).json()['data'])\n",
    "\n",
    "munis = munis[['area', 'municipality.category', 'municipality.demarcation_code', \n",
    "                    'municipality.fax_number', 'municipality.name', 'municipality.phone_number', 'municipality.postal_address_1',\n",
    "                    'municipality.postal_address_2', 'municipality.postal_address_3', 'municipality.province_name',\n",
    "                    'municipality.street_address_1', 'municipality.street_address_2', 'municipality.street_address_3', 'municipality.url']]\n",
    "\n",
    "munis.rename(columns={'area':'area', 'municipality.category':'category', 'municipality.demarcation_code':'demarcation_code', \n",
    "                    'municipality.fax_number':'fax_number', 'municipality.name':'name', 'municipality.phone_number':'phone_number', \n",
    "                      'municipality.postal_address_1':'postal_address_1','municipality.postal_address_2':'postal_address_2', \n",
    "                      'municipality.postal_address_3':'postal_code', 'municipality.province_name':'province_name',\n",
    "                    'municipality.street_address_1':'street_address_1', 'municipality.street_address_2':'street_address_2', \n",
    "                      'municipality.street_address_3':'street_address_3', 'municipality.url':'website'}, inplace=True)\n",
    "\n",
    "munis.fillna('not availiable', inplace=True)\n",
    "for col in munis.columns:\n",
    "    munis[col] = munis[col].apply(lambda x: str(x).lower())\n",
    "\n",
    "models.Municipalities.objects.all().delete()\n",
    "\n",
    "for muni in munis.values:\n",
    "    dermancation_code = muni[2]\n",
    "    officials = models.Officials.objects.filter( demarcation_code=dermancation_code)\n",
    "    audits = models.Audits.objects.filter( demarcation_code=dermancation_code)\n",
    "    balance_sheets = models.BalanceSheet.objects.filter( demarcation_code=dermancation_code)\n",
    "    maintenance = models.Maintenance.objects.filter( demarcation_code=dermancation_code)\n",
    "    cash_flow = models.CashFlow.objects.filter( demarcation_code=dermancation_code)\n",
    "    capital = models.Capital.objects.filter( demarcation_code=dermancation_code)\n",
    "    income_expense = models.IncomeExpense.objects.filter( demarcation_code=dermancation_code)\n",
    "    forecast = models.Forecast.objects.filter( demarcation_code=dermancation_code)\n",
    "    waste = models.WastefulExpenditure.objects.filter( demarcation_code=dermancation_code)\n",
    "    \n",
    "    muni = models.Municipalities.objects.create(\n",
    "        area=muni[0],\n",
    "        category=muni[1],\n",
    "        demarcation_code=muni[2],\n",
    "        fax_number=muni[3],\n",
    "        name=muni[4],\n",
    "        phone_number=muni[5],\n",
    "        postal_address_1=muni[6],\n",
    "        postal_address_2=muni[7],\n",
    "        postal_code=muni[8],\n",
    "        province_name=muni[9],\n",
    "        street_address_1=muni[10],\n",
    "        street_address_2=muni[11],\n",
    "        street_address_3=muni[12],\n",
    "        website=muni[13]\n",
    "    )\n",
    "    muni.officials.set(officials)\n",
    "    muni.audits.set(audits)\n",
    "    muni.balance_sheets.set(balance_sheets)\n",
    "    muni.maintenance.set(maintenance)\n",
    "    muni.cash_flows.set(cash_flow)\n",
    "    muni.capital.set(capital)\n",
    "    muni.income_expense.set(income_expense)\n",
    "    muni.forecasts.set(forecast)\n",
    "    muni.wasteful.set(waste)\n",
    "    muni.save()\n",
    "\n",
    "models.Municipalities.objects.count()"
   ]
  },
  {
   "cell_type": "code",
   "execution_count": null,
   "metadata": {
    "collapsed": true
   },
   "outputs": [],
   "source": []
  }
 ],
 "metadata": {
  "kernelspec": {
   "display_name": "Python 3",
   "language": "python",
   "name": "python3"
  },
  "language_info": {
   "codemirror_mode": {
    "name": "ipython",
    "version": 3
   },
   "file_extension": ".py",
   "mimetype": "text/x-python",
   "name": "python",
   "nbconvert_exporter": "python",
   "pygments_lexer": "ipython3",
   "version": "3.6.3"
  }
 },
 "nbformat": 4,
 "nbformat_minor": 2
}
