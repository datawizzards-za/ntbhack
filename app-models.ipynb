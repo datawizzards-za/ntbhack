{
 "cells": [
  {
   "cell_type": "code",
   "execution_count": 88,
   "metadata": {},
   "outputs": [],
   "source": [
    "import os\n",
    "os.environ.setdefault('DJANGO_SETTINGS_MODULE', 'myzaka.settings')\n",
    "import django\n",
    "django.setup()\n",
    "\n",
    "import urllib3\n",
    "import requests\n",
    "import pandas as pd"
   ]
  },
  {
   "cell_type": "code",
   "execution_count": 89,
   "metadata": {
    "collapsed": true
   },
   "outputs": [],
   "source": [
    "from app import models\n",
    "\n",
    "from sqlalchemy import create_engine\n",
    "engine = create_engine('postgresql://myzaka:myz\\@k\\@@localhost:5432/myzakadb')"
   ]
  },
  {
   "cell_type": "code",
   "execution_count": 62,
   "metadata": {},
   "outputs": [
    {
     "data": {
      "text/plain": [
       "['django_migrations',\n",
       " 'django_content_type',\n",
       " 'auth_group_permissions',\n",
       " 'auth_group',\n",
       " 'auth_user_groups',\n",
       " 'auth_permission',\n",
       " 'auth_user_user_permissions',\n",
       " 'django_admin_log',\n",
       " 'auth_user',\n",
       " 'app_audits',\n",
       " 'app_balancesheet',\n",
       " 'app_capital',\n",
       " 'app_cashflow',\n",
       " 'app_incomeexpense',\n",
       " 'app_maintenance',\n",
       " 'app_municipalities',\n",
       " 'app_wastefulexpenditure',\n",
       " 'django_session',\n",
       " 'app_officials']"
      ]
     },
     "execution_count": 62,
     "metadata": {},
     "output_type": "execute_result"
    }
   ],
   "source": [
    "engine.table_names()"
   ]
  },
  {
   "cell_type": "code",
   "execution_count": null,
   "metadata": {
    "collapsed": true
   },
   "outputs": [],
   "source": []
  },
  {
   "cell_type": "code",
   "execution_count": null,
   "metadata": {
    "collapsed": true
   },
   "outputs": [],
   "source": []
  },
  {
   "cell_type": "code",
   "execution_count": null,
   "metadata": {
    "collapsed": true
   },
   "outputs": [],
   "source": []
  },
  {
   "cell_type": "markdown",
   "metadata": {},
   "source": [
    "### Generate Audits data"
   ]
  },
  {
   "cell_type": "code",
   "execution_count": 68,
   "metadata": {
    "collapsed": true
   },
   "outputs": [],
   "source": [
    "audits = pd.DataFrame(requests.get('https://municipaldata.treasury.gov.za/api/cubes/audit_opinions/facts',\n",
    "                                      allow_redirects=True).json()['data'])"
   ]
  },
  {
   "cell_type": "code",
   "execution_count": 69,
   "metadata": {},
   "outputs": [
    {
     "data": {
      "text/html": [
       "<div>\n",
       "<style>\n",
       "    .dataframe thead tr:only-child th {\n",
       "        text-align: right;\n",
       "    }\n",
       "\n",
       "    .dataframe thead th {\n",
       "        text-align: left;\n",
       "    }\n",
       "\n",
       "    .dataframe tbody tr th {\n",
       "        vertical-align: top;\n",
       "    }\n",
       "</style>\n",
       "<table border=\"1\" class=\"dataframe\">\n",
       "  <thead>\n",
       "    <tr style=\"text-align: right;\">\n",
       "      <th></th>\n",
       "      <th>demarcation.code</th>\n",
       "      <th>demarcation.label</th>\n",
       "      <th>financial_year_end.year</th>\n",
       "      <th>opinion.code</th>\n",
       "      <th>opinion.label</th>\n",
       "      <th>opinion.report_url</th>\n",
       "    </tr>\n",
       "  </thead>\n",
       "  <tbody>\n",
       "    <tr>\n",
       "      <th>0</th>\n",
       "      <td>BUF</td>\n",
       "      <td>Buffalo City</td>\n",
       "      <td>2011</td>\n",
       "      <td>adverse</td>\n",
       "      <td>Adverse opinion</td>\n",
       "      <td>http://mfma.treasury.gov.za/Documents/07.%20Au...</td>\n",
       "    </tr>\n",
       "    <tr>\n",
       "      <th>1</th>\n",
       "      <td>BUF</td>\n",
       "      <td>Buffalo City</td>\n",
       "      <td>2012</td>\n",
       "      <td>qualified</td>\n",
       "      <td>Qualified</td>\n",
       "      <td>http://mfma.treasury.gov.za/Documents/07.%20Au...</td>\n",
       "    </tr>\n",
       "  </tbody>\n",
       "</table>\n",
       "</div>"
      ],
      "text/plain": [
       "  demarcation.code demarcation.label  financial_year_end.year opinion.code  \\\n",
       "0              BUF      Buffalo City                     2011      adverse   \n",
       "1              BUF      Buffalo City                     2012    qualified   \n",
       "\n",
       "     opinion.label                                 opinion.report_url  \n",
       "0  Adverse opinion  http://mfma.treasury.gov.za/Documents/07.%20Au...  \n",
       "1        Qualified  http://mfma.treasury.gov.za/Documents/07.%20Au...  "
      ]
     },
     "execution_count": 69,
     "metadata": {},
     "output_type": "execute_result"
    }
   ],
   "source": [
    "audits.head(2)"
   ]
  },
  {
   "cell_type": "code",
   "execution_count": 81,
   "metadata": {},
   "outputs": [],
   "source": [
    "audits_df = audits[['demarcation.code', 'demarcation.label', 'financial_year_end.year', 'opinion.label', 'opinion.report_url']]"
   ]
  },
  {
   "cell_type": "code",
   "execution_count": 82,
   "metadata": {},
   "outputs": [
    {
     "name": "stderr",
     "output_type": "stream",
     "text": [
      "/Users/mabu/anaconda2/envs/ntbhack/lib/python3.6/site-packages/pandas/core/frame.py:2746: SettingWithCopyWarning: \n",
      "A value is trying to be set on a copy of a slice from a DataFrame\n",
      "\n",
      "See the caveats in the documentation: http://pandas.pydata.org/pandas-docs/stable/indexing.html#indexing-view-versus-copy\n",
      "  **kwargs)\n"
     ]
    }
   ],
   "source": [
    "audits_df.rename(columns={'demarcation.code':'demarcation_code', 'demarcation.label':'demarcation_label', \n",
    "                          'financial_year_end.year':'financial_year_end', 'opinion.label':'opinion', \n",
    "                          'opinion.report_url':'opinion_report_url'}, inplace=True)"
   ]
  },
  {
   "cell_type": "code",
   "execution_count": 83,
   "metadata": {},
   "outputs": [
    {
     "name": "stdout",
     "output_type": "stream",
     "text": [
      "<class 'pandas.core.frame.DataFrame'>\n",
      "RangeIndex: 1632 entries, 0 to 1631\n",
      "Data columns (total 5 columns):\n",
      "demarcation_code      1632 non-null object\n",
      "demarcation_label     1632 non-null object\n",
      "financial_year_end    1632 non-null int64\n",
      "opinion               1632 non-null object\n",
      "opinion_report_url    1418 non-null object\n",
      "dtypes: int64(1), object(4)\n",
      "memory usage: 63.8+ KB\n"
     ]
    }
   ],
   "source": [
    "audits_df.info()"
   ]
  },
  {
   "cell_type": "code",
   "execution_count": 90,
   "metadata": {},
   "outputs": [
    {
     "name": "stderr",
     "output_type": "stream",
     "text": [
      "/Users/mabu/anaconda2/envs/ntbhack/lib/python3.6/site-packages/pandas/core/frame.py:2754: SettingWithCopyWarning: \n",
      "A value is trying to be set on a copy of a slice from a DataFrame\n",
      "\n",
      "See the caveats in the documentation: http://pandas.pydata.org/pandas-docs/stable/indexing.html#indexing-view-versus-copy\n",
      "  downcast=downcast, **kwargs)\n"
     ]
    },
    {
     "data": {
      "text/plain": [
       "1632"
      ]
     },
     "execution_count": 90,
     "metadata": {},
     "output_type": "execute_result"
    }
   ],
   "source": [
    "audits_df.fillna('Not Availiable', inplace=True)\n",
    "audits_df.to_sql('app_audits', engine, if_exists='append', index=False)\n",
    "models.Audits.objects.count()"
   ]
  },
  {
   "cell_type": "code",
   "execution_count": null,
   "metadata": {
    "collapsed": true
   },
   "outputs": [],
   "source": []
  },
  {
   "cell_type": "markdown",
   "metadata": {},
   "source": [
    "### Create login user"
   ]
  },
  {
   "cell_type": "code",
   "execution_count": 9,
   "metadata": {
    "collapsed": true
   },
   "outputs": [],
   "source": [
    "from django.contrib.auth.models import User\n",
    "User.objects.create_user(\n",
    "    first_name=\"Mabu\",\n",
    "    last_name=\"Manaileng\",\n",
    "    username=\"mabu\",\n",
    "    email=\"manailengmj@gmail.com\",\n",
    "    password=\"@dm1n\"\n",
    ")"
   ]
  },
  {
   "cell_type": "code",
   "execution_count": null,
   "metadata": {
    "collapsed": true
   },
   "outputs": [],
   "source": []
  },
  {
   "cell_type": "markdown",
   "metadata": {},
   "source": [
    "### Create Officials"
   ]
  },
  {
   "cell_type": "code",
   "execution_count": 15,
   "metadata": {},
   "outputs": [],
   "source": [
    "officials = pd.DataFrame(requests.get('https://municipaldata.treasury.gov.za/api/cubes/officials/facts',\n",
    "                                      allow_redirects=True).json()['data'])"
   ]
  },
  {
   "cell_type": "code",
   "execution_count": 18,
   "metadata": {},
   "outputs": [
    {
     "data": {
      "text/html": [
       "<div>\n",
       "<style>\n",
       "    .dataframe thead tr:only-child th {\n",
       "        text-align: right;\n",
       "    }\n",
       "\n",
       "    .dataframe thead th {\n",
       "        text-align: left;\n",
       "    }\n",
       "\n",
       "    .dataframe tbody tr th {\n",
       "        vertical-align: top;\n",
       "    }\n",
       "</style>\n",
       "<table border=\"1\" class=\"dataframe\">\n",
       "  <thead>\n",
       "    <tr style=\"text-align: right;\">\n",
       "      <th></th>\n",
       "      <th>contact_details.email_address</th>\n",
       "      <th>contact_details.fax_number</th>\n",
       "      <th>contact_details.name</th>\n",
       "      <th>contact_details.phone_number</th>\n",
       "      <th>contact_details.title</th>\n",
       "      <th>municipality.demarcation_code</th>\n",
       "      <th>role.role</th>\n",
       "    </tr>\n",
       "  </thead>\n",
       "  <tbody>\n",
       "    <tr>\n",
       "      <th>0</th>\n",
       "      <td>vincentp@buffalocity.gov.za</td>\n",
       "      <td>043 743 9141</td>\n",
       "      <td>Vincent Pillay</td>\n",
       "      <td>043 705 1892</td>\n",
       "      <td>Mr</td>\n",
       "      <td>BUF</td>\n",
       "      <td>Chief Financial Officer</td>\n",
       "    </tr>\n",
       "    <tr>\n",
       "      <th>1</th>\n",
       "      <td>zolswam@buffalocity.gov.za</td>\n",
       "      <td>086 545 1288</td>\n",
       "      <td>Zoliswa Patience Matana</td>\n",
       "      <td>043 705 2899</td>\n",
       "      <td>Ms</td>\n",
       "      <td>BUF</td>\n",
       "      <td>Deputy Mayor/Executive Mayor</td>\n",
       "    </tr>\n",
       "  </tbody>\n",
       "</table>\n",
       "</div>"
      ],
      "text/plain": [
       "  contact_details.email_address contact_details.fax_number  \\\n",
       "0   vincentp@buffalocity.gov.za               043 743 9141   \n",
       "1    zolswam@buffalocity.gov.za               086 545 1288   \n",
       "\n",
       "      contact_details.name contact_details.phone_number contact_details.title  \\\n",
       "0           Vincent Pillay                 043 705 1892                    Mr   \n",
       "1  Zoliswa Patience Matana                 043 705 2899                    Ms   \n",
       "\n",
       "  municipality.demarcation_code                     role.role  \n",
       "0                           BUF       Chief Financial Officer  \n",
       "1                           BUF  Deputy Mayor/Executive Mayor  "
      ]
     },
     "execution_count": 18,
     "metadata": {},
     "output_type": "execute_result"
    }
   ],
   "source": [
    "officials.head(2)"
   ]
  },
  {
   "cell_type": "code",
   "execution_count": 21,
   "metadata": {},
   "outputs": [],
   "source": [
    "officials_df = officials[['contact_details.title',  'role.role', 'contact_details.name',  'contact_details.email_address', \n",
    "           'contact_details.fax_number', 'contact_details.phone_number', 'municipality.demarcation_code']]"
   ]
  },
  {
   "cell_type": "code",
   "execution_count": 46,
   "metadata": {
    "collapsed": true
   },
   "outputs": [],
   "source": [
    "officials_df.rename(columns={'contact_details.title':'title',  'role.role':'role', 'contact_details.name':'name',  \n",
    "                                                        'contact_details.email_address':'email_address', 'contact_details.fax_number':'fax_number', \n",
    "                                                         'contact_details.phone_number':'phone_number', 'municipality.demarcation_code':'demarcation_code'}, inplace=True)"
   ]
  },
  {
   "cell_type": "code",
   "execution_count": 65,
   "metadata": {},
   "outputs": [],
   "source": [
    "officials_df = officials_df.dropna(subset=['name'])\n",
    "officials_df.columns"
   ]
  },
  {
   "cell_type": "code",
   "execution_count": 50,
   "metadata": {
    "collapsed": true
   },
   "outputs": [],
   "source": [
    "officials_df.fillna('Not Availiable', inplace=True)\n",
    "officials_df.to_sql('app_officials', engine, if_exists='append', index=False)\n",
    "models.Officials.objects.count()"
   ]
  }
 ],
 "metadata": {
  "kernelspec": {
   "display_name": "Python 3",
   "language": "python",
   "name": "python3"
  },
  "language_info": {
   "codemirror_mode": {
    "name": "ipython",
    "version": 3
   },
   "file_extension": ".py",
   "mimetype": "text/x-python",
   "name": "python",
   "nbconvert_exporter": "python",
   "pygments_lexer": "ipython3",
   "version": "3.6.3"
  }
 },
 "nbformat": 4,
 "nbformat_minor": 2
}
