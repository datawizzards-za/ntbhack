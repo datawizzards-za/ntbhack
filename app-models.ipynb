{
 "cells": [
  {
   "cell_type": "code",
   "execution_count": 88,
   "metadata": {},
   "outputs": [],
   "source": [
    "import os\n",
    "os.environ.setdefault('DJANGO_SETTINGS_MODULE', 'myzaka.settings')\n",
    "import django\n",
    "django.setup()\n",
    "\n",
    "import urllib3\n",
    "import requests\n",
    "import pandas as pd"
   ]
  },
  {
   "cell_type": "code",
   "execution_count": 89,
   "metadata": {
    "collapsed": true
   },
   "outputs": [],
   "source": [
    "from app import models\n",
    "\n",
    "from sqlalchemy import create_engine\n",
    "engine = create_engine('postgresql://myzaka:myz\\@k\\@@localhost:5432/myzakadb')"
   ]
  },
  {
   "cell_type": "code",
   "execution_count": 62,
   "metadata": {},
   "outputs": [
    {
     "data": {
      "text/plain": [
       "['django_migrations',\n",
       " 'django_content_type',\n",
       " 'auth_group_permissions',\n",
       " 'auth_group',\n",
       " 'auth_user_groups',\n",
       " 'auth_permission',\n",
       " 'auth_user_user_permissions',\n",
       " 'django_admin_log',\n",
       " 'auth_user',\n",
       " 'app_audits',\n",
       " 'app_balancesheet',\n",
       " 'app_capital',\n",
       " 'app_cashflow',\n",
       " 'app_incomeexpense',\n",
       " 'app_maintenance',\n",
       " 'app_municipalities',\n",
       " 'app_wastefulexpenditure',\n",
       " 'django_session',\n",
       " 'app_officials']"
      ]
     },
     "execution_count": 62,
     "metadata": {},
     "output_type": "execute_result"
    }
   ],
   "source": [
    "engine.table_names()"
   ]
  },
  {
   "cell_type": "code",
   "execution_count": null,
   "metadata": {
    "collapsed": true
   },
   "outputs": [],
   "source": []
  },
  {
   "cell_type": "markdown",
   "metadata": {},
   "source": [
    "### Generate Munis data"
   ]
  },
  {
   "cell_type": "code",
   "execution_count": 91,
   "metadata": {
    "collapsed": true
   },
   "outputs": [],
   "source": [
    "munis = pd.DataFrame(requests.get('https://municipaldata.treasury.gov.za/api/cubes/municipalities/facts',\n",
    "                                      allow_redirects=True).json()['data'])"
   ]
  },
  {
   "cell_type": "code",
   "execution_count": 92,
   "metadata": {},
   "outputs": [
    {
     "data": {
      "text/html": [
       "<div>\n",
       "<style>\n",
       "    .dataframe thead tr:only-child th {\n",
       "        text-align: right;\n",
       "    }\n",
       "\n",
       "    .dataframe thead th {\n",
       "        text-align: left;\n",
       "    }\n",
       "\n",
       "    .dataframe tbody tr th {\n",
       "        vertical-align: top;\n",
       "    }\n",
       "</style>\n",
       "<table border=\"1\" class=\"dataframe\">\n",
       "  <thead>\n",
       "    <tr style=\"text-align: right;\">\n",
       "      <th></th>\n",
       "      <th>area</th>\n",
       "      <th>municipality.category</th>\n",
       "      <th>municipality.demarcation_code</th>\n",
       "      <th>municipality.fax_number</th>\n",
       "      <th>municipality.long_name</th>\n",
       "      <th>municipality.miif_category</th>\n",
       "      <th>municipality.name</th>\n",
       "      <th>municipality.parent_code</th>\n",
       "      <th>municipality.phone_number</th>\n",
       "      <th>municipality.postal_address_1</th>\n",
       "      <th>municipality.postal_address_2</th>\n",
       "      <th>municipality.postal_address_3</th>\n",
       "      <th>municipality.province_code</th>\n",
       "      <th>municipality.province_name</th>\n",
       "      <th>municipality.street_address_1</th>\n",
       "      <th>municipality.street_address_2</th>\n",
       "      <th>municipality.street_address_3</th>\n",
       "      <th>municipality.street_address_4</th>\n",
       "      <th>municipality.url</th>\n",
       "    </tr>\n",
       "  </thead>\n",
       "  <tbody>\n",
       "    <tr>\n",
       "      <th>0</th>\n",
       "      <td>781026</td>\n",
       "      <td>A</td>\n",
       "      <td>BUF</td>\n",
       "      <td>043 743 8568</td>\n",
       "      <td>Buffalo City, Eastern Cape</td>\n",
       "      <td>A</td>\n",
       "      <td>Buffalo City</td>\n",
       "      <td>EC</td>\n",
       "      <td>043 705 2000</td>\n",
       "      <td>P O BOX 134</td>\n",
       "      <td>EAST LONDON</td>\n",
       "      <td>5200</td>\n",
       "      <td>EC</td>\n",
       "      <td>Eastern Cape</td>\n",
       "      <td>Trust Bank Centre</td>\n",
       "      <td>C/O Oxford &amp; North Street</td>\n",
       "      <td>East London</td>\n",
       "      <td>5200</td>\n",
       "      <td>http://www.buffalocity.gov.za</td>\n",
       "    </tr>\n",
       "    <tr>\n",
       "      <th>1</th>\n",
       "      <td>3740031</td>\n",
       "      <td>A</td>\n",
       "      <td>CPT</td>\n",
       "      <td>None</td>\n",
       "      <td>City of Cape Town, Western Cape</td>\n",
       "      <td>A</td>\n",
       "      <td>City of Cape Town</td>\n",
       "      <td>WC</td>\n",
       "      <td>021 400 1111</td>\n",
       "      <td>PRIVATE BAG X9181</td>\n",
       "      <td>CAPE TOWN</td>\n",
       "      <td>8000</td>\n",
       "      <td>WC</td>\n",
       "      <td>Western Cape</td>\n",
       "      <td>Civic Centre</td>\n",
       "      <td>12 Hertzog Boulevard</td>\n",
       "      <td>Cape Town</td>\n",
       "      <td>8001</td>\n",
       "      <td>http://www.capetown.gov.za</td>\n",
       "    </tr>\n",
       "  </tbody>\n",
       "</table>\n",
       "</div>"
      ],
      "text/plain": [
       "      area municipality.category municipality.demarcation_code  \\\n",
       "0   781026                     A                           BUF   \n",
       "1  3740031                     A                           CPT   \n",
       "\n",
       "  municipality.fax_number           municipality.long_name  \\\n",
       "0            043 743 8568       Buffalo City, Eastern Cape   \n",
       "1                    None  City of Cape Town, Western Cape   \n",
       "\n",
       "  municipality.miif_category  municipality.name municipality.parent_code  \\\n",
       "0                          A       Buffalo City                       EC   \n",
       "1                          A  City of Cape Town                       WC   \n",
       "\n",
       "  municipality.phone_number municipality.postal_address_1  \\\n",
       "0              043 705 2000                   P O BOX 134   \n",
       "1              021 400 1111             PRIVATE BAG X9181   \n",
       "\n",
       "  municipality.postal_address_2 municipality.postal_address_3  \\\n",
       "0                   EAST LONDON                          5200   \n",
       "1                     CAPE TOWN                          8000   \n",
       "\n",
       "  municipality.province_code municipality.province_name  \\\n",
       "0                         EC               Eastern Cape   \n",
       "1                         WC               Western Cape   \n",
       "\n",
       "  municipality.street_address_1 municipality.street_address_2  \\\n",
       "0             Trust Bank Centre     C/O Oxford & North Street   \n",
       "1                  Civic Centre          12 Hertzog Boulevard   \n",
       "\n",
       "  municipality.street_address_3 municipality.street_address_4  \\\n",
       "0                   East London                          5200   \n",
       "1                     Cape Town                          8001   \n",
       "\n",
       "                municipality.url  \n",
       "0  http://www.buffalocity.gov.za  \n",
       "1     http://www.capetown.gov.za  "
      ]
     },
     "execution_count": 92,
     "metadata": {},
     "output_type": "execute_result"
    }
   ],
   "source": [
    "munis.head(2)"
   ]
  },
  {
   "cell_type": "code",
   "execution_count": 94,
   "metadata": {},
   "outputs": [],
   "source": [
    "munis = munis[['area', 'municipality.category', 'municipality.demarcation_code', \n",
    "                    'municipality.fax_number', 'municipality.name', 'municipality.phone_number', 'municipality.postal_address_1',\n",
    "                    'municipality.postal_address_2', 'municipality.postal_address_3', 'municipality.province_name',\n",
    "                    'municipality.street_address_1', 'municipality.street_address_2', 'municipality.street_address_3', 'municipality.url']]"
   ]
  },
  {
   "cell_type": "code",
   "execution_count": 95,
   "metadata": {},
   "outputs": [
    {
     "name": "stderr",
     "output_type": "stream",
     "text": [
      "/Users/mabu/anaconda2/envs/ntbhack/lib/python3.6/site-packages/pandas/core/frame.py:2746: SettingWithCopyWarning: \n",
      "A value is trying to be set on a copy of a slice from a DataFrame\n",
      "\n",
      "See the caveats in the documentation: http://pandas.pydata.org/pandas-docs/stable/indexing.html#indexing-view-versus-copy\n",
      "  **kwargs)\n"
     ]
    }
   ],
   "source": [
    "munis.rename(columns={'area':'area', 'municipality.category':'category', 'municipality.demarcation_code':'demarcation_code', \n",
    "                    'municipality.fax_number':'fax_number', 'municipality.name':'name', 'municipality.phone_number':'phone_number', \n",
    "                      'municipality.postal_address_1':'postal_address_1','municipality.postal_address_2':'postal_address_2', \n",
    "                      'municipality.postal_address_3':'postal_code', 'municipality.province_name':'province_name',\n",
    "                    'municipality.street_address_1':'street_address_1', 'municipality.street_address_2':'street_address_2', \n",
    "                      'municipality.street_address_3':'street_address_3', 'municipality.url':'website'}, inplace=True)"
   ]
  },
  {
   "cell_type": "code",
   "execution_count": 97,
   "metadata": {},
   "outputs": [
    {
     "name": "stdout",
     "output_type": "stream",
     "text": [
      "<class 'pandas.core.frame.DataFrame'>\n",
      "RangeIndex: 292 entries, 0 to 291\n",
      "Data columns (total 14 columns):\n",
      "area                292 non-null int64\n",
      "category            292 non-null object\n",
      "demarcation_code    292 non-null object\n",
      "fax_number          288 non-null object\n",
      "name                292 non-null object\n",
      "phone_number        291 non-null object\n",
      "postal_address_1    291 non-null object\n",
      "postal_address_2    291 non-null object\n",
      "postal_code         291 non-null object\n",
      "province_name       292 non-null object\n",
      "street_address_1    273 non-null object\n",
      "street_address_2    290 non-null object\n",
      "street_address_3    291 non-null object\n",
      "website             272 non-null object\n",
      "dtypes: int64(1), object(13)\n",
      "memory usage: 32.0+ KB\n"
     ]
    }
   ],
   "source": [
    "munis.info()"
   ]
  },
  {
   "cell_type": "code",
   "execution_count": 98,
   "metadata": {},
   "outputs": [
    {
     "name": "stderr",
     "output_type": "stream",
     "text": [
      "/Users/mabu/anaconda2/envs/ntbhack/lib/python3.6/site-packages/pandas/core/frame.py:2754: SettingWithCopyWarning: \n",
      "A value is trying to be set on a copy of a slice from a DataFrame\n",
      "\n",
      "See the caveats in the documentation: http://pandas.pydata.org/pandas-docs/stable/indexing.html#indexing-view-versus-copy\n",
      "  downcast=downcast, **kwargs)\n"
     ]
    },
    {
     "ename": "DataError",
     "evalue": "(psycopg2.DataError) value too long for type character varying(30)\n [SQL: 'INSERT INTO app_municipalities (area, category, demarcation_code, fax_number, name, phone_number, postal_address_1, postal_address_2, postal_code, province_name, street_address_1, street_address_2, street_address_3, website) VALUES (%(area)s, %(category)s, %(demarcation_code)s, %(fax_number)s, %(name)s, %(phone_number)s, %(postal_address_1)s, %(postal_address_2)s, %(postal_code)s, %(province_name)s, %(street_address_1)s, %(street_address_2)s, %(street_address_3)s, %(website)s)'] [parameters: ({'area': 781026, 'category': 'A', 'demarcation_code': 'BUF', 'fax_number': '043 743 8568', 'name': 'Buffalo City', 'phone_number': '043 705 2000', 'postal_address_1': 'P O BOX 134', 'postal_address_2': 'EAST LONDON', 'postal_code': '5200', 'province_name': 'Eastern Cape', 'street_address_1': 'Trust Bank Centre', 'street_address_2': 'C/O Oxford & North Street', 'street_address_3': 'East London', 'website': 'http://www.buffalocity.gov.za'}, {'area': 3740031, 'category': 'A', 'demarcation_code': 'CPT', 'fax_number': 'Not Availiable', 'name': 'City of Cape Town', 'phone_number': '021 400 1111', 'postal_address_1': 'PRIVATE BAG X9181', 'postal_address_2': 'CAPE TOWN', 'postal_code': '8000', 'province_name': 'Western Cape', 'street_address_1': 'Civic Centre', 'street_address_2': '12 Hertzog Boulevard', 'street_address_3': 'Cape Town', 'website': 'http://www.capetown.gov.za'}, {'area': 391766, 'category': 'C', 'demarcation_code': 'DC1', 'fax_number': '086 692 6113', 'name': 'West Coast', 'phone_number': '022 433 8400', 'postal_address_1': 'P O BOX 242', 'postal_address_2': 'MOORREESBURG', 'postal_code': '7310', 'province_name': 'Western Cape', 'street_address_1': '58 Long Street', 'street_address_2': 'Moorreesburg', 'street_address_3': '7310', 'website': 'http://www.westcoastdm.co.za'}, {'area': 450585, 'category': 'C', 'demarcation_code': 'DC10', 'fax_number': '041 508 7022', 'name': 'Cacadu', 'phone_number': '041 508 7111', 'postal_address_1': 'P O BOX 318', 'postal_address_2': 'PORT ELIZABETH', 'postal_code': '6000', 'province_name': 'Eastern Cape', 'street_address_1': 'Standard Bank Building', 'street_address_2': '32 Govan Mbeki Avenue', 'street_address_3': 'Port Elizabeth', 'website': 'http://www.cacadu.co.za'}, {'area': 855793, 'category': 'C', 'demarcation_code': 'DC12', 'fax_number': '043 742 0337', 'name': 'Amathole', 'phone_number': '043 701 4000', 'postal_address_1': 'P O BOX 320', 'postal_address_2': 'EAST LONDON', 'postal_code': '5200', 'province_name': 'Eastern Cape', 'street_address_1': 'Waverly Office Park', 'street_address_2': '3-33 Philli Frame RD, Chiselhurst', 'street_address_3': 'East London', 'website': 'http://www.amathole.gov.za'}, {'area': 806478, 'category': 'C', 'demarcation_code': 'DC13', 'fax_number': '045 839 2355', 'name': 'Chris Hani', 'phone_number': '045 808 4600', 'postal_address_1': 'PRIVATE BAG X7121', 'postal_address_2': 'QUEENSTOWN', 'postal_code': '5320', 'province_name': 'Eastern Cape', 'street_address_1': '15 Bells Road', 'street_address_2': 'Queenstown', 'street_address_3': '5320', 'website': 'http://www.chrishanidm.gov.za'}, {'area': 348667, 'category': 'C', 'demarcation_code': 'DC14', 'fax_number': '045 979 3028', 'name': 'Joe Gqabi', 'phone_number': '045 979 3000', 'postal_address_1': 'P O BOX 102', 'postal_address_2': 'BARKLY EAST', 'postal_code': '9786', 'province_name': 'Eastern Cape', 'street_address_1': 'Joe Gqabi District Municipality', 'street_address_2': 'C/ O Graham & Cole Street', 'street_address_3': 'Barkly East', 'website': 'http://www.jgdm.gov.za'}, {'area': 1366044, 'category': 'C', 'demarcation_code': 'DC15', 'fax_number': '047 532 4166', 'name': 'O.R.Tambo', 'phone_number': '047 501 6400', 'postal_address_1': 'PRIVAATE BAG X6043', 'postal_address_2': 'MTHATHA', 'postal_code': '5099', 'province_name': 'Eastern Cape', 'street_address_1': 'O R Tambo House', 'street_address_2': 'Nelson Mandela Drive', 'street_address_3': 'Mthatha', 'website': 'http://www.ortambodm.org.za'}  ... displaying 10 of 292 total bound parameter sets ...  {'area': 13136, 'category': 'B', 'demarcation_code': 'WC052', 'fax_number': '023 541 1321', 'name': 'Prince Albert', 'phone_number': '023 541 1320', 'postal_address_1': 'PRIVATE BAG X 53', 'postal_address_2': 'PRINCE ALBERT', 'postal_code': '6930', 'province_name': 'Western Cape', 'street_address_1': '23 Church Street', 'street_address_2': '23 Church Street', 'street_address_3': 'Prince Albert', 'website': 'http://www.pamun.gov.za'}, {'area': 49586, 'category': 'B', 'demarcation_code': 'WC053', 'fax_number': '023 414 8105', 'name': 'Beaufort West', 'phone_number': '023 414 8100', 'postal_address_1': 'PRIVATE BAG 582', 'postal_address_2': 'BEAUFORT WEST', 'postal_code': '6970', 'province_name': 'Western Cape', 'street_address_1': 'Sanlam Building', 'street_address_2': '112 Donkin Street', 'street_address_3': 'Beaufort West', 'website': 'http://www.beaufortwestmun.co.za'})]",
     "output_type": "error",
     "traceback": [
      "\u001b[0;31m---------------------------------------------------------------------------\u001b[0m",
      "\u001b[0;31mDataError\u001b[0m                                 Traceback (most recent call last)",
      "\u001b[0;32m~/anaconda2/envs/ntbhack/lib/python3.6/site-packages/sqlalchemy/engine/base.py\u001b[0m in \u001b[0;36m_execute_context\u001b[0;34m(self, dialect, constructor, statement, parameters, *args)\u001b[0m\n\u001b[1;32m   1158\u001b[0m                         \u001b[0mparameters\u001b[0m\u001b[0;34m,\u001b[0m\u001b[0;34m\u001b[0m\u001b[0m\n\u001b[0;32m-> 1159\u001b[0;31m                         context)\n\u001b[0m\u001b[1;32m   1160\u001b[0m             \u001b[0;32melif\u001b[0m \u001b[0;32mnot\u001b[0m \u001b[0mparameters\u001b[0m \u001b[0;32mand\u001b[0m \u001b[0mcontext\u001b[0m\u001b[0;34m.\u001b[0m\u001b[0mno_parameters\u001b[0m\u001b[0;34m:\u001b[0m\u001b[0;34m\u001b[0m\u001b[0m\n",
      "\u001b[0;32m~/anaconda2/envs/ntbhack/lib/python3.6/site-packages/sqlalchemy/engine/default.py\u001b[0m in \u001b[0;36mdo_executemany\u001b[0;34m(self, cursor, statement, parameters, context)\u001b[0m\n\u001b[1;32m    466\u001b[0m     \u001b[0;32mdef\u001b[0m \u001b[0mdo_executemany\u001b[0m\u001b[0;34m(\u001b[0m\u001b[0mself\u001b[0m\u001b[0;34m,\u001b[0m \u001b[0mcursor\u001b[0m\u001b[0;34m,\u001b[0m \u001b[0mstatement\u001b[0m\u001b[0;34m,\u001b[0m \u001b[0mparameters\u001b[0m\u001b[0;34m,\u001b[0m \u001b[0mcontext\u001b[0m\u001b[0;34m=\u001b[0m\u001b[0;32mNone\u001b[0m\u001b[0;34m)\u001b[0m\u001b[0;34m:\u001b[0m\u001b[0;34m\u001b[0m\u001b[0m\n\u001b[0;32m--> 467\u001b[0;31m         \u001b[0mcursor\u001b[0m\u001b[0;34m.\u001b[0m\u001b[0mexecutemany\u001b[0m\u001b[0;34m(\u001b[0m\u001b[0mstatement\u001b[0m\u001b[0;34m,\u001b[0m \u001b[0mparameters\u001b[0m\u001b[0;34m)\u001b[0m\u001b[0;34m\u001b[0m\u001b[0m\n\u001b[0m\u001b[1;32m    468\u001b[0m \u001b[0;34m\u001b[0m\u001b[0m\n",
      "\u001b[0;31mDataError\u001b[0m: value too long for type character varying(30)\n",
      "\nThe above exception was the direct cause of the following exception:\n",
      "\u001b[0;31mDataError\u001b[0m                                 Traceback (most recent call last)",
      "\u001b[0;32m<ipython-input-98-9bc861dfc6e3>\u001b[0m in \u001b[0;36m<module>\u001b[0;34m()\u001b[0m\n\u001b[1;32m      1\u001b[0m \u001b[0mmunis\u001b[0m\u001b[0;34m.\u001b[0m\u001b[0mfillna\u001b[0m\u001b[0;34m(\u001b[0m\u001b[0;34m'Not Availiable'\u001b[0m\u001b[0;34m,\u001b[0m \u001b[0minplace\u001b[0m\u001b[0;34m=\u001b[0m\u001b[0;32mTrue\u001b[0m\u001b[0;34m)\u001b[0m\u001b[0;34m\u001b[0m\u001b[0m\n\u001b[0;32m----> 2\u001b[0;31m \u001b[0mmunis\u001b[0m\u001b[0;34m.\u001b[0m\u001b[0mto_sql\u001b[0m\u001b[0;34m(\u001b[0m\u001b[0;34m'app_municipalities'\u001b[0m\u001b[0;34m,\u001b[0m \u001b[0mengine\u001b[0m\u001b[0;34m,\u001b[0m \u001b[0mif_exists\u001b[0m\u001b[0;34m=\u001b[0m\u001b[0;34m'append'\u001b[0m\u001b[0;34m,\u001b[0m \u001b[0mindex\u001b[0m\u001b[0;34m=\u001b[0m\u001b[0;32mFalse\u001b[0m\u001b[0;34m)\u001b[0m\u001b[0;34m\u001b[0m\u001b[0m\n\u001b[0m\u001b[1;32m      3\u001b[0m \u001b[0mmodels\u001b[0m\u001b[0;34m.\u001b[0m\u001b[0mMunicipalities\u001b[0m\u001b[0;34m.\u001b[0m\u001b[0mobjects\u001b[0m\u001b[0;34m.\u001b[0m\u001b[0mcount\u001b[0m\u001b[0;34m(\u001b[0m\u001b[0;34m)\u001b[0m\u001b[0;34m\u001b[0m\u001b[0m\n",
      "\u001b[0;32m~/anaconda2/envs/ntbhack/lib/python3.6/site-packages/pandas/core/generic.py\u001b[0m in \u001b[0;36mto_sql\u001b[0;34m(self, name, con, flavor, schema, if_exists, index, index_label, chunksize, dtype)\u001b[0m\n\u001b[1;32m   1360\u001b[0m         sql.to_sql(self, name, con, flavor=flavor, schema=schema,\n\u001b[1;32m   1361\u001b[0m                    \u001b[0mif_exists\u001b[0m\u001b[0;34m=\u001b[0m\u001b[0mif_exists\u001b[0m\u001b[0;34m,\u001b[0m \u001b[0mindex\u001b[0m\u001b[0;34m=\u001b[0m\u001b[0mindex\u001b[0m\u001b[0;34m,\u001b[0m \u001b[0mindex_label\u001b[0m\u001b[0;34m=\u001b[0m\u001b[0mindex_label\u001b[0m\u001b[0;34m,\u001b[0m\u001b[0;34m\u001b[0m\u001b[0m\n\u001b[0;32m-> 1362\u001b[0;31m                    chunksize=chunksize, dtype=dtype)\n\u001b[0m\u001b[1;32m   1363\u001b[0m \u001b[0;34m\u001b[0m\u001b[0m\n\u001b[1;32m   1364\u001b[0m     \u001b[0;32mdef\u001b[0m \u001b[0mto_pickle\u001b[0m\u001b[0;34m(\u001b[0m\u001b[0mself\u001b[0m\u001b[0;34m,\u001b[0m \u001b[0mpath\u001b[0m\u001b[0;34m,\u001b[0m \u001b[0mcompression\u001b[0m\u001b[0;34m=\u001b[0m\u001b[0;34m'infer'\u001b[0m\u001b[0;34m)\u001b[0m\u001b[0;34m:\u001b[0m\u001b[0;34m\u001b[0m\u001b[0m\n",
      "\u001b[0;32m~/anaconda2/envs/ntbhack/lib/python3.6/site-packages/pandas/io/sql.py\u001b[0m in \u001b[0;36mto_sql\u001b[0;34m(frame, name, con, flavor, schema, if_exists, index, index_label, chunksize, dtype)\u001b[0m\n\u001b[1;32m    469\u001b[0m     pandas_sql.to_sql(frame, name, if_exists=if_exists, index=index,\n\u001b[1;32m    470\u001b[0m                       \u001b[0mindex_label\u001b[0m\u001b[0;34m=\u001b[0m\u001b[0mindex_label\u001b[0m\u001b[0;34m,\u001b[0m \u001b[0mschema\u001b[0m\u001b[0;34m=\u001b[0m\u001b[0mschema\u001b[0m\u001b[0;34m,\u001b[0m\u001b[0;34m\u001b[0m\u001b[0m\n\u001b[0;32m--> 471\u001b[0;31m                       chunksize=chunksize, dtype=dtype)\n\u001b[0m\u001b[1;32m    472\u001b[0m \u001b[0;34m\u001b[0m\u001b[0m\n\u001b[1;32m    473\u001b[0m \u001b[0;34m\u001b[0m\u001b[0m\n",
      "\u001b[0;32m~/anaconda2/envs/ntbhack/lib/python3.6/site-packages/pandas/io/sql.py\u001b[0m in \u001b[0;36mto_sql\u001b[0;34m(self, frame, name, if_exists, index, index_label, schema, chunksize, dtype)\u001b[0m\n\u001b[1;32m   1149\u001b[0m                          schema=schema, dtype=dtype)\n\u001b[1;32m   1150\u001b[0m         \u001b[0mtable\u001b[0m\u001b[0;34m.\u001b[0m\u001b[0mcreate\u001b[0m\u001b[0;34m(\u001b[0m\u001b[0;34m)\u001b[0m\u001b[0;34m\u001b[0m\u001b[0m\n\u001b[0;32m-> 1151\u001b[0;31m         \u001b[0mtable\u001b[0m\u001b[0;34m.\u001b[0m\u001b[0minsert\u001b[0m\u001b[0;34m(\u001b[0m\u001b[0mchunksize\u001b[0m\u001b[0;34m)\u001b[0m\u001b[0;34m\u001b[0m\u001b[0m\n\u001b[0m\u001b[1;32m   1152\u001b[0m         \u001b[0;32mif\u001b[0m \u001b[0;34m(\u001b[0m\u001b[0;32mnot\u001b[0m \u001b[0mname\u001b[0m\u001b[0;34m.\u001b[0m\u001b[0misdigit\u001b[0m\u001b[0;34m(\u001b[0m\u001b[0;34m)\u001b[0m \u001b[0;32mand\u001b[0m \u001b[0;32mnot\u001b[0m \u001b[0mname\u001b[0m\u001b[0;34m.\u001b[0m\u001b[0mislower\u001b[0m\u001b[0;34m(\u001b[0m\u001b[0;34m)\u001b[0m\u001b[0;34m)\u001b[0m\u001b[0;34m:\u001b[0m\u001b[0;34m\u001b[0m\u001b[0m\n\u001b[1;32m   1153\u001b[0m             \u001b[0;31m# check for potentially case sensitivity issues (GH7815)\u001b[0m\u001b[0;34m\u001b[0m\u001b[0;34m\u001b[0m\u001b[0m\n",
      "\u001b[0;32m~/anaconda2/envs/ntbhack/lib/python3.6/site-packages/pandas/io/sql.py\u001b[0m in \u001b[0;36minsert\u001b[0;34m(self, chunksize)\u001b[0m\n\u001b[1;32m    664\u001b[0m \u001b[0;34m\u001b[0m\u001b[0m\n\u001b[1;32m    665\u001b[0m                 \u001b[0mchunk_iter\u001b[0m \u001b[0;34m=\u001b[0m \u001b[0mzip\u001b[0m\u001b[0;34m(\u001b[0m\u001b[0;34m*\u001b[0m\u001b[0;34m[\u001b[0m\u001b[0marr\u001b[0m\u001b[0;34m[\u001b[0m\u001b[0mstart_i\u001b[0m\u001b[0;34m:\u001b[0m\u001b[0mend_i\u001b[0m\u001b[0;34m]\u001b[0m \u001b[0;32mfor\u001b[0m \u001b[0marr\u001b[0m \u001b[0;32min\u001b[0m \u001b[0mdata_list\u001b[0m\u001b[0;34m]\u001b[0m\u001b[0;34m)\u001b[0m\u001b[0;34m\u001b[0m\u001b[0m\n\u001b[0;32m--> 666\u001b[0;31m                 \u001b[0mself\u001b[0m\u001b[0;34m.\u001b[0m\u001b[0m_execute_insert\u001b[0m\u001b[0;34m(\u001b[0m\u001b[0mconn\u001b[0m\u001b[0;34m,\u001b[0m \u001b[0mkeys\u001b[0m\u001b[0;34m,\u001b[0m \u001b[0mchunk_iter\u001b[0m\u001b[0;34m)\u001b[0m\u001b[0;34m\u001b[0m\u001b[0m\n\u001b[0m\u001b[1;32m    667\u001b[0m \u001b[0;34m\u001b[0m\u001b[0m\n\u001b[1;32m    668\u001b[0m     def _query_iterator(self, result, chunksize, columns, coerce_float=True,\n",
      "\u001b[0;32m~/anaconda2/envs/ntbhack/lib/python3.6/site-packages/pandas/io/sql.py\u001b[0m in \u001b[0;36m_execute_insert\u001b[0;34m(self, conn, keys, data_iter)\u001b[0m\n\u001b[1;32m    639\u001b[0m     \u001b[0;32mdef\u001b[0m \u001b[0m_execute_insert\u001b[0m\u001b[0;34m(\u001b[0m\u001b[0mself\u001b[0m\u001b[0;34m,\u001b[0m \u001b[0mconn\u001b[0m\u001b[0;34m,\u001b[0m \u001b[0mkeys\u001b[0m\u001b[0;34m,\u001b[0m \u001b[0mdata_iter\u001b[0m\u001b[0;34m)\u001b[0m\u001b[0;34m:\u001b[0m\u001b[0;34m\u001b[0m\u001b[0m\n\u001b[1;32m    640\u001b[0m         \u001b[0mdata\u001b[0m \u001b[0;34m=\u001b[0m \u001b[0;34m[\u001b[0m\u001b[0mdict\u001b[0m\u001b[0;34m(\u001b[0m\u001b[0;34m(\u001b[0m\u001b[0mk\u001b[0m\u001b[0;34m,\u001b[0m \u001b[0mv\u001b[0m\u001b[0;34m)\u001b[0m \u001b[0;32mfor\u001b[0m \u001b[0mk\u001b[0m\u001b[0;34m,\u001b[0m \u001b[0mv\u001b[0m \u001b[0;32min\u001b[0m \u001b[0mzip\u001b[0m\u001b[0;34m(\u001b[0m\u001b[0mkeys\u001b[0m\u001b[0;34m,\u001b[0m \u001b[0mrow\u001b[0m\u001b[0;34m)\u001b[0m\u001b[0;34m)\u001b[0m \u001b[0;32mfor\u001b[0m \u001b[0mrow\u001b[0m \u001b[0;32min\u001b[0m \u001b[0mdata_iter\u001b[0m\u001b[0;34m]\u001b[0m\u001b[0;34m\u001b[0m\u001b[0m\n\u001b[0;32m--> 641\u001b[0;31m         \u001b[0mconn\u001b[0m\u001b[0;34m.\u001b[0m\u001b[0mexecute\u001b[0m\u001b[0;34m(\u001b[0m\u001b[0mself\u001b[0m\u001b[0;34m.\u001b[0m\u001b[0minsert_statement\u001b[0m\u001b[0;34m(\u001b[0m\u001b[0;34m)\u001b[0m\u001b[0;34m,\u001b[0m \u001b[0mdata\u001b[0m\u001b[0;34m)\u001b[0m\u001b[0;34m\u001b[0m\u001b[0m\n\u001b[0m\u001b[1;32m    642\u001b[0m \u001b[0;34m\u001b[0m\u001b[0m\n\u001b[1;32m    643\u001b[0m     \u001b[0;32mdef\u001b[0m \u001b[0minsert\u001b[0m\u001b[0;34m(\u001b[0m\u001b[0mself\u001b[0m\u001b[0;34m,\u001b[0m \u001b[0mchunksize\u001b[0m\u001b[0;34m=\u001b[0m\u001b[0;32mNone\u001b[0m\u001b[0;34m)\u001b[0m\u001b[0;34m:\u001b[0m\u001b[0;34m\u001b[0m\u001b[0m\n",
      "\u001b[0;32m~/anaconda2/envs/ntbhack/lib/python3.6/site-packages/sqlalchemy/engine/base.py\u001b[0m in \u001b[0;36mexecute\u001b[0;34m(self, object, *multiparams, **params)\u001b[0m\n\u001b[1;32m    943\u001b[0m             \u001b[0;32mraise\u001b[0m \u001b[0mexc\u001b[0m\u001b[0;34m.\u001b[0m\u001b[0mObjectNotExecutableError\u001b[0m\u001b[0;34m(\u001b[0m\u001b[0mobject\u001b[0m\u001b[0;34m)\u001b[0m\u001b[0;34m\u001b[0m\u001b[0m\n\u001b[1;32m    944\u001b[0m         \u001b[0;32melse\u001b[0m\u001b[0;34m:\u001b[0m\u001b[0;34m\u001b[0m\u001b[0m\n\u001b[0;32m--> 945\u001b[0;31m             \u001b[0;32mreturn\u001b[0m \u001b[0mmeth\u001b[0m\u001b[0;34m(\u001b[0m\u001b[0mself\u001b[0m\u001b[0;34m,\u001b[0m \u001b[0mmultiparams\u001b[0m\u001b[0;34m,\u001b[0m \u001b[0mparams\u001b[0m\u001b[0;34m)\u001b[0m\u001b[0;34m\u001b[0m\u001b[0m\n\u001b[0m\u001b[1;32m    946\u001b[0m \u001b[0;34m\u001b[0m\u001b[0m\n\u001b[1;32m    947\u001b[0m     \u001b[0;32mdef\u001b[0m \u001b[0m_execute_function\u001b[0m\u001b[0;34m(\u001b[0m\u001b[0mself\u001b[0m\u001b[0;34m,\u001b[0m \u001b[0mfunc\u001b[0m\u001b[0;34m,\u001b[0m \u001b[0mmultiparams\u001b[0m\u001b[0;34m,\u001b[0m \u001b[0mparams\u001b[0m\u001b[0;34m)\u001b[0m\u001b[0;34m:\u001b[0m\u001b[0;34m\u001b[0m\u001b[0m\n",
      "\u001b[0;32m~/anaconda2/envs/ntbhack/lib/python3.6/site-packages/sqlalchemy/sql/elements.py\u001b[0m in \u001b[0;36m_execute_on_connection\u001b[0;34m(self, connection, multiparams, params)\u001b[0m\n\u001b[1;32m    261\u001b[0m     \u001b[0;32mdef\u001b[0m \u001b[0m_execute_on_connection\u001b[0m\u001b[0;34m(\u001b[0m\u001b[0mself\u001b[0m\u001b[0;34m,\u001b[0m \u001b[0mconnection\u001b[0m\u001b[0;34m,\u001b[0m \u001b[0mmultiparams\u001b[0m\u001b[0;34m,\u001b[0m \u001b[0mparams\u001b[0m\u001b[0;34m)\u001b[0m\u001b[0;34m:\u001b[0m\u001b[0;34m\u001b[0m\u001b[0m\n\u001b[1;32m    262\u001b[0m         \u001b[0;32mif\u001b[0m \u001b[0mself\u001b[0m\u001b[0;34m.\u001b[0m\u001b[0msupports_execution\u001b[0m\u001b[0;34m:\u001b[0m\u001b[0;34m\u001b[0m\u001b[0m\n\u001b[0;32m--> 263\u001b[0;31m             \u001b[0;32mreturn\u001b[0m \u001b[0mconnection\u001b[0m\u001b[0;34m.\u001b[0m\u001b[0m_execute_clauseelement\u001b[0m\u001b[0;34m(\u001b[0m\u001b[0mself\u001b[0m\u001b[0;34m,\u001b[0m \u001b[0mmultiparams\u001b[0m\u001b[0;34m,\u001b[0m \u001b[0mparams\u001b[0m\u001b[0;34m)\u001b[0m\u001b[0;34m\u001b[0m\u001b[0m\n\u001b[0m\u001b[1;32m    264\u001b[0m         \u001b[0;32melse\u001b[0m\u001b[0;34m:\u001b[0m\u001b[0;34m\u001b[0m\u001b[0m\n\u001b[1;32m    265\u001b[0m             \u001b[0;32mraise\u001b[0m \u001b[0mexc\u001b[0m\u001b[0;34m.\u001b[0m\u001b[0mObjectNotExecutableError\u001b[0m\u001b[0;34m(\u001b[0m\u001b[0mself\u001b[0m\u001b[0;34m)\u001b[0m\u001b[0;34m\u001b[0m\u001b[0m\n",
      "\u001b[0;32m~/anaconda2/envs/ntbhack/lib/python3.6/site-packages/sqlalchemy/engine/base.py\u001b[0m in \u001b[0;36m_execute_clauseelement\u001b[0;34m(self, elem, multiparams, params)\u001b[0m\n\u001b[1;32m   1051\u001b[0m             \u001b[0mcompiled_sql\u001b[0m\u001b[0;34m,\u001b[0m\u001b[0;34m\u001b[0m\u001b[0m\n\u001b[1;32m   1052\u001b[0m             \u001b[0mdistilled_params\u001b[0m\u001b[0;34m,\u001b[0m\u001b[0;34m\u001b[0m\u001b[0m\n\u001b[0;32m-> 1053\u001b[0;31m             \u001b[0mcompiled_sql\u001b[0m\u001b[0;34m,\u001b[0m \u001b[0mdistilled_params\u001b[0m\u001b[0;34m\u001b[0m\u001b[0m\n\u001b[0m\u001b[1;32m   1054\u001b[0m         )\n\u001b[1;32m   1055\u001b[0m         \u001b[0;32mif\u001b[0m \u001b[0mself\u001b[0m\u001b[0;34m.\u001b[0m\u001b[0m_has_events\u001b[0m \u001b[0;32mor\u001b[0m \u001b[0mself\u001b[0m\u001b[0;34m.\u001b[0m\u001b[0mengine\u001b[0m\u001b[0;34m.\u001b[0m\u001b[0m_has_events\u001b[0m\u001b[0;34m:\u001b[0m\u001b[0;34m\u001b[0m\u001b[0m\n",
      "\u001b[0;32m~/anaconda2/envs/ntbhack/lib/python3.6/site-packages/sqlalchemy/engine/base.py\u001b[0m in \u001b[0;36m_execute_context\u001b[0;34m(self, dialect, constructor, statement, parameters, *args)\u001b[0m\n\u001b[1;32m   1187\u001b[0m                 \u001b[0mparameters\u001b[0m\u001b[0;34m,\u001b[0m\u001b[0;34m\u001b[0m\u001b[0m\n\u001b[1;32m   1188\u001b[0m                 \u001b[0mcursor\u001b[0m\u001b[0;34m,\u001b[0m\u001b[0;34m\u001b[0m\u001b[0m\n\u001b[0;32m-> 1189\u001b[0;31m                 context)\n\u001b[0m\u001b[1;32m   1190\u001b[0m \u001b[0;34m\u001b[0m\u001b[0m\n\u001b[1;32m   1191\u001b[0m         \u001b[0;32mif\u001b[0m \u001b[0mself\u001b[0m\u001b[0;34m.\u001b[0m\u001b[0m_has_events\u001b[0m \u001b[0;32mor\u001b[0m \u001b[0mself\u001b[0m\u001b[0;34m.\u001b[0m\u001b[0mengine\u001b[0m\u001b[0;34m.\u001b[0m\u001b[0m_has_events\u001b[0m\u001b[0;34m:\u001b[0m\u001b[0;34m\u001b[0m\u001b[0m\n",
      "\u001b[0;32m~/anaconda2/envs/ntbhack/lib/python3.6/site-packages/sqlalchemy/engine/base.py\u001b[0m in \u001b[0;36m_handle_dbapi_exception\u001b[0;34m(self, e, statement, parameters, cursor, context)\u001b[0m\n\u001b[1;32m   1400\u001b[0m                 util.raise_from_cause(\n\u001b[1;32m   1401\u001b[0m                     \u001b[0msqlalchemy_exception\u001b[0m\u001b[0;34m,\u001b[0m\u001b[0;34m\u001b[0m\u001b[0m\n\u001b[0;32m-> 1402\u001b[0;31m                     \u001b[0mexc_info\u001b[0m\u001b[0;34m\u001b[0m\u001b[0m\n\u001b[0m\u001b[1;32m   1403\u001b[0m                 )\n\u001b[1;32m   1404\u001b[0m             \u001b[0;32melse\u001b[0m\u001b[0;34m:\u001b[0m\u001b[0;34m\u001b[0m\u001b[0m\n",
      "\u001b[0;32m~/anaconda2/envs/ntbhack/lib/python3.6/site-packages/sqlalchemy/util/compat.py\u001b[0m in \u001b[0;36mraise_from_cause\u001b[0;34m(exception, exc_info)\u001b[0m\n\u001b[1;32m    201\u001b[0m     \u001b[0mexc_type\u001b[0m\u001b[0;34m,\u001b[0m \u001b[0mexc_value\u001b[0m\u001b[0;34m,\u001b[0m \u001b[0mexc_tb\u001b[0m \u001b[0;34m=\u001b[0m \u001b[0mexc_info\u001b[0m\u001b[0;34m\u001b[0m\u001b[0m\n\u001b[1;32m    202\u001b[0m     \u001b[0mcause\u001b[0m \u001b[0;34m=\u001b[0m \u001b[0mexc_value\u001b[0m \u001b[0;32mif\u001b[0m \u001b[0mexc_value\u001b[0m \u001b[0;32mis\u001b[0m \u001b[0;32mnot\u001b[0m \u001b[0mexception\u001b[0m \u001b[0;32melse\u001b[0m \u001b[0;32mNone\u001b[0m\u001b[0;34m\u001b[0m\u001b[0m\n\u001b[0;32m--> 203\u001b[0;31m     \u001b[0mreraise\u001b[0m\u001b[0;34m(\u001b[0m\u001b[0mtype\u001b[0m\u001b[0;34m(\u001b[0m\u001b[0mexception\u001b[0m\u001b[0;34m)\u001b[0m\u001b[0;34m,\u001b[0m \u001b[0mexception\u001b[0m\u001b[0;34m,\u001b[0m \u001b[0mtb\u001b[0m\u001b[0;34m=\u001b[0m\u001b[0mexc_tb\u001b[0m\u001b[0;34m,\u001b[0m \u001b[0mcause\u001b[0m\u001b[0;34m=\u001b[0m\u001b[0mcause\u001b[0m\u001b[0;34m)\u001b[0m\u001b[0;34m\u001b[0m\u001b[0m\n\u001b[0m\u001b[1;32m    204\u001b[0m \u001b[0;34m\u001b[0m\u001b[0m\n\u001b[1;32m    205\u001b[0m \u001b[0;32mif\u001b[0m \u001b[0mpy3k\u001b[0m\u001b[0;34m:\u001b[0m\u001b[0;34m\u001b[0m\u001b[0m\n",
      "\u001b[0;32m~/anaconda2/envs/ntbhack/lib/python3.6/site-packages/sqlalchemy/util/compat.py\u001b[0m in \u001b[0;36mreraise\u001b[0;34m(tp, value, tb, cause)\u001b[0m\n\u001b[1;32m    184\u001b[0m             \u001b[0mvalue\u001b[0m\u001b[0;34m.\u001b[0m\u001b[0m__cause__\u001b[0m \u001b[0;34m=\u001b[0m \u001b[0mcause\u001b[0m\u001b[0;34m\u001b[0m\u001b[0m\n\u001b[1;32m    185\u001b[0m         \u001b[0;32mif\u001b[0m \u001b[0mvalue\u001b[0m\u001b[0;34m.\u001b[0m\u001b[0m__traceback__\u001b[0m \u001b[0;32mis\u001b[0m \u001b[0;32mnot\u001b[0m \u001b[0mtb\u001b[0m\u001b[0;34m:\u001b[0m\u001b[0;34m\u001b[0m\u001b[0m\n\u001b[0;32m--> 186\u001b[0;31m             \u001b[0;32mraise\u001b[0m \u001b[0mvalue\u001b[0m\u001b[0;34m.\u001b[0m\u001b[0mwith_traceback\u001b[0m\u001b[0;34m(\u001b[0m\u001b[0mtb\u001b[0m\u001b[0;34m)\u001b[0m\u001b[0;34m\u001b[0m\u001b[0m\n\u001b[0m\u001b[1;32m    187\u001b[0m         \u001b[0;32mraise\u001b[0m \u001b[0mvalue\u001b[0m\u001b[0;34m\u001b[0m\u001b[0m\n\u001b[1;32m    188\u001b[0m \u001b[0;34m\u001b[0m\u001b[0m\n",
      "\u001b[0;32m~/anaconda2/envs/ntbhack/lib/python3.6/site-packages/sqlalchemy/engine/base.py\u001b[0m in \u001b[0;36m_execute_context\u001b[0;34m(self, dialect, constructor, statement, parameters, *args)\u001b[0m\n\u001b[1;32m   1157\u001b[0m                         \u001b[0mstatement\u001b[0m\u001b[0;34m,\u001b[0m\u001b[0;34m\u001b[0m\u001b[0m\n\u001b[1;32m   1158\u001b[0m                         \u001b[0mparameters\u001b[0m\u001b[0;34m,\u001b[0m\u001b[0;34m\u001b[0m\u001b[0m\n\u001b[0;32m-> 1159\u001b[0;31m                         context)\n\u001b[0m\u001b[1;32m   1160\u001b[0m             \u001b[0;32melif\u001b[0m \u001b[0;32mnot\u001b[0m \u001b[0mparameters\u001b[0m \u001b[0;32mand\u001b[0m \u001b[0mcontext\u001b[0m\u001b[0;34m.\u001b[0m\u001b[0mno_parameters\u001b[0m\u001b[0;34m:\u001b[0m\u001b[0;34m\u001b[0m\u001b[0m\n\u001b[1;32m   1161\u001b[0m                 \u001b[0;32mif\u001b[0m \u001b[0mself\u001b[0m\u001b[0;34m.\u001b[0m\u001b[0mdialect\u001b[0m\u001b[0;34m.\u001b[0m\u001b[0m_has_events\u001b[0m\u001b[0;34m:\u001b[0m\u001b[0;34m\u001b[0m\u001b[0m\n",
      "\u001b[0;32m~/anaconda2/envs/ntbhack/lib/python3.6/site-packages/sqlalchemy/engine/default.py\u001b[0m in \u001b[0;36mdo_executemany\u001b[0;34m(self, cursor, statement, parameters, context)\u001b[0m\n\u001b[1;32m    465\u001b[0m \u001b[0;34m\u001b[0m\u001b[0m\n\u001b[1;32m    466\u001b[0m     \u001b[0;32mdef\u001b[0m \u001b[0mdo_executemany\u001b[0m\u001b[0;34m(\u001b[0m\u001b[0mself\u001b[0m\u001b[0;34m,\u001b[0m \u001b[0mcursor\u001b[0m\u001b[0;34m,\u001b[0m \u001b[0mstatement\u001b[0m\u001b[0;34m,\u001b[0m \u001b[0mparameters\u001b[0m\u001b[0;34m,\u001b[0m \u001b[0mcontext\u001b[0m\u001b[0;34m=\u001b[0m\u001b[0;32mNone\u001b[0m\u001b[0;34m)\u001b[0m\u001b[0;34m:\u001b[0m\u001b[0;34m\u001b[0m\u001b[0m\n\u001b[0;32m--> 467\u001b[0;31m         \u001b[0mcursor\u001b[0m\u001b[0;34m.\u001b[0m\u001b[0mexecutemany\u001b[0m\u001b[0;34m(\u001b[0m\u001b[0mstatement\u001b[0m\u001b[0;34m,\u001b[0m \u001b[0mparameters\u001b[0m\u001b[0;34m)\u001b[0m\u001b[0;34m\u001b[0m\u001b[0m\n\u001b[0m\u001b[1;32m    468\u001b[0m \u001b[0;34m\u001b[0m\u001b[0m\n\u001b[1;32m    469\u001b[0m     \u001b[0;32mdef\u001b[0m \u001b[0mdo_execute\u001b[0m\u001b[0;34m(\u001b[0m\u001b[0mself\u001b[0m\u001b[0;34m,\u001b[0m \u001b[0mcursor\u001b[0m\u001b[0;34m,\u001b[0m \u001b[0mstatement\u001b[0m\u001b[0;34m,\u001b[0m \u001b[0mparameters\u001b[0m\u001b[0;34m,\u001b[0m \u001b[0mcontext\u001b[0m\u001b[0;34m=\u001b[0m\u001b[0;32mNone\u001b[0m\u001b[0;34m)\u001b[0m\u001b[0;34m:\u001b[0m\u001b[0;34m\u001b[0m\u001b[0m\n",
      "\u001b[0;31mDataError\u001b[0m: (psycopg2.DataError) value too long for type character varying(30)\n [SQL: 'INSERT INTO app_municipalities (area, category, demarcation_code, fax_number, name, phone_number, postal_address_1, postal_address_2, postal_code, province_name, street_address_1, street_address_2, street_address_3, website) VALUES (%(area)s, %(category)s, %(demarcation_code)s, %(fax_number)s, %(name)s, %(phone_number)s, %(postal_address_1)s, %(postal_address_2)s, %(postal_code)s, %(province_name)s, %(street_address_1)s, %(street_address_2)s, %(street_address_3)s, %(website)s)'] [parameters: ({'area': 781026, 'category': 'A', 'demarcation_code': 'BUF', 'fax_number': '043 743 8568', 'name': 'Buffalo City', 'phone_number': '043 705 2000', 'postal_address_1': 'P O BOX 134', 'postal_address_2': 'EAST LONDON', 'postal_code': '5200', 'province_name': 'Eastern Cape', 'street_address_1': 'Trust Bank Centre', 'street_address_2': 'C/O Oxford & North Street', 'street_address_3': 'East London', 'website': 'http://www.buffalocity.gov.za'}, {'area': 3740031, 'category': 'A', 'demarcation_code': 'CPT', 'fax_number': 'Not Availiable', 'name': 'City of Cape Town', 'phone_number': '021 400 1111', 'postal_address_1': 'PRIVATE BAG X9181', 'postal_address_2': 'CAPE TOWN', 'postal_code': '8000', 'province_name': 'Western Cape', 'street_address_1': 'Civic Centre', 'street_address_2': '12 Hertzog Boulevard', 'street_address_3': 'Cape Town', 'website': 'http://www.capetown.gov.za'}, {'area': 391766, 'category': 'C', 'demarcation_code': 'DC1', 'fax_number': '086 692 6113', 'name': 'West Coast', 'phone_number': '022 433 8400', 'postal_address_1': 'P O BOX 242', 'postal_address_2': 'MOORREESBURG', 'postal_code': '7310', 'province_name': 'Western Cape', 'street_address_1': '58 Long Street', 'street_address_2': 'Moorreesburg', 'street_address_3': '7310', 'website': 'http://www.westcoastdm.co.za'}, {'area': 450585, 'category': 'C', 'demarcation_code': 'DC10', 'fax_number': '041 508 7022', 'name': 'Cacadu', 'phone_number': '041 508 7111', 'postal_address_1': 'P O BOX 318', 'postal_address_2': 'PORT ELIZABETH', 'postal_code': '6000', 'province_name': 'Eastern Cape', 'street_address_1': 'Standard Bank Building', 'street_address_2': '32 Govan Mbeki Avenue', 'street_address_3': 'Port Elizabeth', 'website': 'http://www.cacadu.co.za'}, {'area': 855793, 'category': 'C', 'demarcation_code': 'DC12', 'fax_number': '043 742 0337', 'name': 'Amathole', 'phone_number': '043 701 4000', 'postal_address_1': 'P O BOX 320', 'postal_address_2': 'EAST LONDON', 'postal_code': '5200', 'province_name': 'Eastern Cape', 'street_address_1': 'Waverly Office Park', 'street_address_2': '3-33 Philli Frame RD, Chiselhurst', 'street_address_3': 'East London', 'website': 'http://www.amathole.gov.za'}, {'area': 806478, 'category': 'C', 'demarcation_code': 'DC13', 'fax_number': '045 839 2355', 'name': 'Chris Hani', 'phone_number': '045 808 4600', 'postal_address_1': 'PRIVATE BAG X7121', 'postal_address_2': 'QUEENSTOWN', 'postal_code': '5320', 'province_name': 'Eastern Cape', 'street_address_1': '15 Bells Road', 'street_address_2': 'Queenstown', 'street_address_3': '5320', 'website': 'http://www.chrishanidm.gov.za'}, {'area': 348667, 'category': 'C', 'demarcation_code': 'DC14', 'fax_number': '045 979 3028', 'name': 'Joe Gqabi', 'phone_number': '045 979 3000', 'postal_address_1': 'P O BOX 102', 'postal_address_2': 'BARKLY EAST', 'postal_code': '9786', 'province_name': 'Eastern Cape', 'street_address_1': 'Joe Gqabi District Municipality', 'street_address_2': 'C/ O Graham & Cole Street', 'street_address_3': 'Barkly East', 'website': 'http://www.jgdm.gov.za'}, {'area': 1366044, 'category': 'C', 'demarcation_code': 'DC15', 'fax_number': '047 532 4166', 'name': 'O.R.Tambo', 'phone_number': '047 501 6400', 'postal_address_1': 'PRIVAATE BAG X6043', 'postal_address_2': 'MTHATHA', 'postal_code': '5099', 'province_name': 'Eastern Cape', 'street_address_1': 'O R Tambo House', 'street_address_2': 'Nelson Mandela Drive', 'street_address_3': 'Mthatha', 'website': 'http://www.ortambodm.org.za'}  ... displaying 10 of 292 total bound parameter sets ...  {'area': 13136, 'category': 'B', 'demarcation_code': 'WC052', 'fax_number': '023 541 1321', 'name': 'Prince Albert', 'phone_number': '023 541 1320', 'postal_address_1': 'PRIVATE BAG X 53', 'postal_address_2': 'PRINCE ALBERT', 'postal_code': '6930', 'province_name': 'Western Cape', 'street_address_1': '23 Church Street', 'street_address_2': '23 Church Street', 'street_address_3': 'Prince Albert', 'website': 'http://www.pamun.gov.za'}, {'area': 49586, 'category': 'B', 'demarcation_code': 'WC053', 'fax_number': '023 414 8105', 'name': 'Beaufort West', 'phone_number': '023 414 8100', 'postal_address_1': 'PRIVATE BAG 582', 'postal_address_2': 'BEAUFORT WEST', 'postal_code': '6970', 'province_name': 'Western Cape', 'street_address_1': 'Sanlam Building', 'street_address_2': '112 Donkin Street', 'street_address_3': 'Beaufort West', 'website': 'http://www.beaufortwestmun.co.za'})]"
     ]
    }
   ],
   "source": [
    "munis.fillna('Not Availiable', inplace=True)\n",
    "munis.to_sql('app_municipalities', engine, if_exists='append', index=False)\n",
    "models.Municipalities.objects.count()"
   ]
  },
  {
   "cell_type": "markdown",
   "metadata": {},
   "source": [
    "### Generate Audits data"
   ]
  },
  {
   "cell_type": "code",
   "execution_count": 68,
   "metadata": {
    "collapsed": true
   },
   "outputs": [],
   "source": [
    "audits = pd.DataFrame(requests.get('https://municipaldata.treasury.gov.za/api/cubes/audit_opinions/facts',\n",
    "                                      allow_redirects=True).json()['data'])"
   ]
  },
  {
   "cell_type": "code",
   "execution_count": 69,
   "metadata": {},
   "outputs": [
    {
     "data": {
      "text/html": [
       "<div>\n",
       "<style>\n",
       "    .dataframe thead tr:only-child th {\n",
       "        text-align: right;\n",
       "    }\n",
       "\n",
       "    .dataframe thead th {\n",
       "        text-align: left;\n",
       "    }\n",
       "\n",
       "    .dataframe tbody tr th {\n",
       "        vertical-align: top;\n",
       "    }\n",
       "</style>\n",
       "<table border=\"1\" class=\"dataframe\">\n",
       "  <thead>\n",
       "    <tr style=\"text-align: right;\">\n",
       "      <th></th>\n",
       "      <th>demarcation.code</th>\n",
       "      <th>demarcation.label</th>\n",
       "      <th>financial_year_end.year</th>\n",
       "      <th>opinion.code</th>\n",
       "      <th>opinion.label</th>\n",
       "      <th>opinion.report_url</th>\n",
       "    </tr>\n",
       "  </thead>\n",
       "  <tbody>\n",
       "    <tr>\n",
       "      <th>0</th>\n",
       "      <td>BUF</td>\n",
       "      <td>Buffalo City</td>\n",
       "      <td>2011</td>\n",
       "      <td>adverse</td>\n",
       "      <td>Adverse opinion</td>\n",
       "      <td>http://mfma.treasury.gov.za/Documents/07.%20Au...</td>\n",
       "    </tr>\n",
       "    <tr>\n",
       "      <th>1</th>\n",
       "      <td>BUF</td>\n",
       "      <td>Buffalo City</td>\n",
       "      <td>2012</td>\n",
       "      <td>qualified</td>\n",
       "      <td>Qualified</td>\n",
       "      <td>http://mfma.treasury.gov.za/Documents/07.%20Au...</td>\n",
       "    </tr>\n",
       "  </tbody>\n",
       "</table>\n",
       "</div>"
      ],
      "text/plain": [
       "  demarcation.code demarcation.label  financial_year_end.year opinion.code  \\\n",
       "0              BUF      Buffalo City                     2011      adverse   \n",
       "1              BUF      Buffalo City                     2012    qualified   \n",
       "\n",
       "     opinion.label                                 opinion.report_url  \n",
       "0  Adverse opinion  http://mfma.treasury.gov.za/Documents/07.%20Au...  \n",
       "1        Qualified  http://mfma.treasury.gov.za/Documents/07.%20Au...  "
      ]
     },
     "execution_count": 69,
     "metadata": {},
     "output_type": "execute_result"
    }
   ],
   "source": [
    "audits.head(2)"
   ]
  },
  {
   "cell_type": "code",
   "execution_count": 81,
   "metadata": {},
   "outputs": [],
   "source": [
    "audits_df = audits[['demarcation.code', 'demarcation.label', 'financial_year_end.year', 'opinion.label', 'opinion.report_url']]"
   ]
  },
  {
   "cell_type": "code",
   "execution_count": 82,
   "metadata": {},
   "outputs": [
    {
     "name": "stderr",
     "output_type": "stream",
     "text": [
      "/Users/mabu/anaconda2/envs/ntbhack/lib/python3.6/site-packages/pandas/core/frame.py:2746: SettingWithCopyWarning: \n",
      "A value is trying to be set on a copy of a slice from a DataFrame\n",
      "\n",
      "See the caveats in the documentation: http://pandas.pydata.org/pandas-docs/stable/indexing.html#indexing-view-versus-copy\n",
      "  **kwargs)\n"
     ]
    }
   ],
   "source": [
    "audits_df.rename(columns={'demarcation.code':'demarcation_code', 'demarcation.label':'demarcation_label', \n",
    "                          'financial_year_end.year':'financial_year_end', 'opinion.label':'opinion', \n",
    "                          'opinion.report_url':'opinion_report_url'}, inplace=True)"
   ]
  },
  {
   "cell_type": "code",
   "execution_count": 83,
   "metadata": {},
   "outputs": [
    {
     "name": "stdout",
     "output_type": "stream",
     "text": [
      "<class 'pandas.core.frame.DataFrame'>\n",
      "RangeIndex: 1632 entries, 0 to 1631\n",
      "Data columns (total 5 columns):\n",
      "demarcation_code      1632 non-null object\n",
      "demarcation_label     1632 non-null object\n",
      "financial_year_end    1632 non-null int64\n",
      "opinion               1632 non-null object\n",
      "opinion_report_url    1418 non-null object\n",
      "dtypes: int64(1), object(4)\n",
      "memory usage: 63.8+ KB\n"
     ]
    }
   ],
   "source": [
    "audits_df.info()"
   ]
  },
  {
   "cell_type": "code",
   "execution_count": 90,
   "metadata": {},
   "outputs": [
    {
     "name": "stderr",
     "output_type": "stream",
     "text": [
      "/Users/mabu/anaconda2/envs/ntbhack/lib/python3.6/site-packages/pandas/core/frame.py:2754: SettingWithCopyWarning: \n",
      "A value is trying to be set on a copy of a slice from a DataFrame\n",
      "\n",
      "See the caveats in the documentation: http://pandas.pydata.org/pandas-docs/stable/indexing.html#indexing-view-versus-copy\n",
      "  downcast=downcast, **kwargs)\n"
     ]
    },
    {
     "data": {
      "text/plain": [
       "1632"
      ]
     },
     "execution_count": 90,
     "metadata": {},
     "output_type": "execute_result"
    }
   ],
   "source": [
    "audits_df.fillna('Not Availiable', inplace=True)\n",
    "audits_df.to_sql('app_audits', engine, if_exists='append', index=False)\n",
    "models.Audits.objects.count()"
   ]
  },
  {
   "cell_type": "code",
   "execution_count": null,
   "metadata": {
    "collapsed": true
   },
   "outputs": [],
   "source": []
  },
  {
   "cell_type": "markdown",
   "metadata": {},
   "source": [
    "### Create login user"
   ]
  },
  {
   "cell_type": "code",
   "execution_count": 9,
   "metadata": {
    "collapsed": true
   },
   "outputs": [],
   "source": [
    "from django.contrib.auth.models import User\n",
    "User.objects.create_user(\n",
    "    first_name=\"Mabu\",\n",
    "    last_name=\"Manaileng\",\n",
    "    username=\"mabu\",\n",
    "    email=\"manailengmj@gmail.com\",\n",
    "    password=\"@dm1n\"\n",
    ")"
   ]
  },
  {
   "cell_type": "code",
   "execution_count": null,
   "metadata": {
    "collapsed": true
   },
   "outputs": [],
   "source": []
  },
  {
   "cell_type": "markdown",
   "metadata": {},
   "source": [
    "### Create Officials"
   ]
  },
  {
   "cell_type": "code",
   "execution_count": 15,
   "metadata": {},
   "outputs": [],
   "source": [
    "officials = pd.DataFrame(requests.get('https://municipaldata.treasury.gov.za/api/cubes/officials/facts',\n",
    "                                      allow_redirects=True).json()['data'])"
   ]
  },
  {
   "cell_type": "code",
   "execution_count": 18,
   "metadata": {},
   "outputs": [
    {
     "data": {
      "text/html": [
       "<div>\n",
       "<style>\n",
       "    .dataframe thead tr:only-child th {\n",
       "        text-align: right;\n",
       "    }\n",
       "\n",
       "    .dataframe thead th {\n",
       "        text-align: left;\n",
       "    }\n",
       "\n",
       "    .dataframe tbody tr th {\n",
       "        vertical-align: top;\n",
       "    }\n",
       "</style>\n",
       "<table border=\"1\" class=\"dataframe\">\n",
       "  <thead>\n",
       "    <tr style=\"text-align: right;\">\n",
       "      <th></th>\n",
       "      <th>contact_details.email_address</th>\n",
       "      <th>contact_details.fax_number</th>\n",
       "      <th>contact_details.name</th>\n",
       "      <th>contact_details.phone_number</th>\n",
       "      <th>contact_details.title</th>\n",
       "      <th>municipality.demarcation_code</th>\n",
       "      <th>role.role</th>\n",
       "    </tr>\n",
       "  </thead>\n",
       "  <tbody>\n",
       "    <tr>\n",
       "      <th>0</th>\n",
       "      <td>vincentp@buffalocity.gov.za</td>\n",
       "      <td>043 743 9141</td>\n",
       "      <td>Vincent Pillay</td>\n",
       "      <td>043 705 1892</td>\n",
       "      <td>Mr</td>\n",
       "      <td>BUF</td>\n",
       "      <td>Chief Financial Officer</td>\n",
       "    </tr>\n",
       "    <tr>\n",
       "      <th>1</th>\n",
       "      <td>zolswam@buffalocity.gov.za</td>\n",
       "      <td>086 545 1288</td>\n",
       "      <td>Zoliswa Patience Matana</td>\n",
       "      <td>043 705 2899</td>\n",
       "      <td>Ms</td>\n",
       "      <td>BUF</td>\n",
       "      <td>Deputy Mayor/Executive Mayor</td>\n",
       "    </tr>\n",
       "  </tbody>\n",
       "</table>\n",
       "</div>"
      ],
      "text/plain": [
       "  contact_details.email_address contact_details.fax_number  \\\n",
       "0   vincentp@buffalocity.gov.za               043 743 9141   \n",
       "1    zolswam@buffalocity.gov.za               086 545 1288   \n",
       "\n",
       "      contact_details.name contact_details.phone_number contact_details.title  \\\n",
       "0           Vincent Pillay                 043 705 1892                    Mr   \n",
       "1  Zoliswa Patience Matana                 043 705 2899                    Ms   \n",
       "\n",
       "  municipality.demarcation_code                     role.role  \n",
       "0                           BUF       Chief Financial Officer  \n",
       "1                           BUF  Deputy Mayor/Executive Mayor  "
      ]
     },
     "execution_count": 18,
     "metadata": {},
     "output_type": "execute_result"
    }
   ],
   "source": [
    "officials.head(2)"
   ]
  },
  {
   "cell_type": "code",
   "execution_count": 21,
   "metadata": {},
   "outputs": [],
   "source": [
    "officials_df = officials[['contact_details.title',  'role.role', 'contact_details.name',  'contact_details.email_address', \n",
    "           'contact_details.fax_number', 'contact_details.phone_number', 'municipality.demarcation_code']]"
   ]
  },
  {
   "cell_type": "code",
   "execution_count": 46,
   "metadata": {
    "collapsed": true
   },
   "outputs": [],
   "source": [
    "officials_df.rename(columns={'contact_details.title':'title',  'role.role':'role', 'contact_details.name':'name',  \n",
    "                                                        'contact_details.email_address':'email_address', 'contact_details.fax_number':'fax_number', \n",
    "                                                         'contact_details.phone_number':'phone_number', 'municipality.demarcation_code':'demarcation_code'}, inplace=True)"
   ]
  },
  {
   "cell_type": "code",
   "execution_count": 65,
   "metadata": {},
   "outputs": [],
   "source": [
    "officials_df = officials_df.dropna(subset=['name'])\n",
    "officials_df.columns"
   ]
  },
  {
   "cell_type": "code",
   "execution_count": 50,
   "metadata": {
    "collapsed": true
   },
   "outputs": [],
   "source": [
    "officials_df.fillna('Not Availiable', inplace=True)\n",
    "officials_df.to_sql('app_officials', engine, if_exists='append', index=False)\n",
    "models.Officials.objects.count()"
   ]
  }
 ],
 "metadata": {
  "kernelspec": {
   "display_name": "Python 3",
   "language": "python",
   "name": "python3"
  },
  "language_info": {
   "codemirror_mode": {
    "name": "ipython",
    "version": 3
   },
   "file_extension": ".py",
   "mimetype": "text/x-python",
   "name": "python",
   "nbconvert_exporter": "python",
   "pygments_lexer": "ipython3",
   "version": "3.6.3"
  }
 },
 "nbformat": 4,
 "nbformat_minor": 2
}
