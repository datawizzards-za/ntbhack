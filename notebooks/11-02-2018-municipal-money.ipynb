{
 "cells": [
  {
   "cell_type": "code",
   "execution_count": 15,
   "metadata": {
    "collapsed": true
   },
   "outputs": [],
   "source": [
    "import pandas as pd\n",
    "import numpy as np\n",
    "import urllib3\n",
    "import matplotlib.pyplot as plt\n",
    "import requests\n",
    "from urllib.parse import urlencode\n",
    "import time\n",
    "%matplotlib inline"
   ]
  },
  {
   "cell_type": "code",
   "execution_count": 3,
   "metadata": {
    "collapsed": true
   },
   "outputs": [],
   "source": [
    "cubes = requests.get('https://municipaldata.treasury.gov.za/api/cubes/', allow_redirects=True).json()"
   ]
  },
  {
   "cell_type": "code",
   "execution_count": 4,
   "metadata": {
    "collapsed": true
   },
   "outputs": [],
   "source": [
    "data = pd.DataFrame(cubes['data'])"
   ]
  },
  {
   "cell_type": "code",
   "execution_count": 10,
   "metadata": {},
   "outputs": [
    {
     "data": {
      "text/html": [
       "<div>\n",
       "<style>\n",
       "    .dataframe thead tr:only-child th {\n",
       "        text-align: right;\n",
       "    }\n",
       "\n",
       "    .dataframe thead th {\n",
       "        text-align: left;\n",
       "    }\n",
       "\n",
       "    .dataframe tbody tr th {\n",
       "        vertical-align: top;\n",
       "    }\n",
       "</style>\n",
       "<table border=\"1\" class=\"dataframe\">\n",
       "  <thead>\n",
       "    <tr style=\"text-align: right;\">\n",
       "      <th></th>\n",
       "      <th>description</th>\n",
       "      <th>label</th>\n",
       "      <th>name</th>\n",
       "      <th>uri</th>\n",
       "    </tr>\n",
       "  </thead>\n",
       "  <tbody>\n",
       "    <tr>\n",
       "      <th>0</th>\n",
       "      <td>Analysis of creditors aggregated by age of deb...</td>\n",
       "      <td>Aged Creditor Analysis</td>\n",
       "      <td>aged_creditor</td>\n",
       "      <td>https://municipaldata.treasury.gov.za/api/cube...</td>\n",
       "    </tr>\n",
       "    <tr>\n",
       "      <th>1</th>\n",
       "      <td>Details of grants received from national gover...</td>\n",
       "      <td>Conditional Grants</td>\n",
       "      <td>conditional_grants</td>\n",
       "      <td>https://municipaldata.treasury.gov.za/api/cube...</td>\n",
       "    </tr>\n",
       "    <tr>\n",
       "      <th>2</th>\n",
       "      <td>Statement of Financial Performance. How a muni...</td>\n",
       "      <td>Income and Expenditure</td>\n",
       "      <td>incexp</td>\n",
       "      <td>https://municipaldata.treasury.gov.za/api/cube...</td>\n",
       "    </tr>\n",
       "    <tr>\n",
       "      <th>3</th>\n",
       "      <td>Analysis of debtors by age of debt. Does not i...</td>\n",
       "      <td>Aged Debtor Analysis</td>\n",
       "      <td>aged_debtor</td>\n",
       "      <td>https://municipaldata.treasury.gov.za/api/cube...</td>\n",
       "    </tr>\n",
       "    <tr>\n",
       "      <th>4</th>\n",
       "      <td>Purchase, repair and renewal of capital assets.</td>\n",
       "      <td>Capital Acquisition</td>\n",
       "      <td>capital</td>\n",
       "      <td>https://municipaldata.treasury.gov.za/api/cube...</td>\n",
       "    </tr>\n",
       "  </tbody>\n",
       "</table>\n",
       "</div>"
      ],
      "text/plain": [
       "                                         description                   label  \\\n",
       "0  Analysis of creditors aggregated by age of deb...  Aged Creditor Analysis   \n",
       "1  Details of grants received from national gover...      Conditional Grants   \n",
       "2  Statement of Financial Performance. How a muni...  Income and Expenditure   \n",
       "3  Analysis of debtors by age of debt. Does not i...    Aged Debtor Analysis   \n",
       "4    Purchase, repair and renewal of capital assets.     Capital Acquisition   \n",
       "\n",
       "                 name                                                uri  \n",
       "0       aged_creditor  https://municipaldata.treasury.gov.za/api/cube...  \n",
       "1  conditional_grants  https://municipaldata.treasury.gov.za/api/cube...  \n",
       "2              incexp  https://municipaldata.treasury.gov.za/api/cube...  \n",
       "3         aged_debtor  https://municipaldata.treasury.gov.za/api/cube...  \n",
       "4             capital  https://municipaldata.treasury.gov.za/api/cube...  "
      ]
     },
     "execution_count": 10,
     "metadata": {},
     "output_type": "execute_result"
    }
   ],
   "source": [
    "data.head(5)"
   ]
  },
  {
   "cell_type": "code",
   "execution_count": null,
   "metadata": {
    "collapsed": true
   },
   "outputs": [],
   "source": [
    "aged = requests.get(data.uri[0])"
   ]
  },
  {
   "cell_type": "code",
   "execution_count": 8,
   "metadata": {
    "collapsed": true
   },
   "outputs": [],
   "source": [
    "def url_change(x, url = 'https://municipaldata.treasury.gov.za/api/cubes/'):\n",
    "    return ''.join([url,x.split(url)[1].replace('/','')])"
   ]
  },
  {
   "cell_type": "code",
   "execution_count": 9,
   "metadata": {
    "collapsed": true
   },
   "outputs": [],
   "source": [
    "data.uri= data.uri.apply(lambda x: url_change(x))"
   ]
  },
  {
   "cell_type": "code",
   "execution_count": null,
   "metadata": {
    "collapsed": true
   },
   "outputs": [],
   "source": []
  },
  {
   "cell_type": "code",
   "execution_count": null,
   "metadata": {
    "collapsed": true
   },
   "outputs": [],
   "source": []
  },
  {
   "cell_type": "code",
   "execution_count": null,
   "metadata": {
    "collapsed": true
   },
   "outputs": [],
   "source": [
    "test = requests.get(data.uri[7], allow_redirects=True).json()"
   ]
  },
  {
   "cell_type": "code",
   "execution_count": 55,
   "metadata": {},
   "outputs": [
    {
     "data": {
      "text/html": [
       "<div>\n",
       "<style>\n",
       "    .dataframe thead tr:only-child th {\n",
       "        text-align: right;\n",
       "    }\n",
       "\n",
       "    .dataframe thead th {\n",
       "        text-align: left;\n",
       "    }\n",
       "\n",
       "    .dataframe tbody tr th {\n",
       "        vertical-align: top;\n",
       "    }\n",
       "</style>\n",
       "<table border=\"1\" class=\"dataframe\">\n",
       "  <thead>\n",
       "    <tr style=\"text-align: right;\">\n",
       "      <th></th>\n",
       "      <th>description</th>\n",
       "      <th>label</th>\n",
       "      <th>name</th>\n",
       "      <th>uri</th>\n",
       "    </tr>\n",
       "  </thead>\n",
       "  <tbody>\n",
       "    <tr>\n",
       "      <th>0</th>\n",
       "      <td>Analysis of creditors aggregated by age of deb...</td>\n",
       "      <td>Aged Creditor Analysis</td>\n",
       "      <td>aged_creditor</td>\n",
       "      <td>https://municipaldata.treasury.gov.za/api/cube...</td>\n",
       "    </tr>\n",
       "    <tr>\n",
       "      <th>1</th>\n",
       "      <td>Details of grants received from national gover...</td>\n",
       "      <td>Conditional Grants</td>\n",
       "      <td>conditional_grants</td>\n",
       "      <td>https://municipaldata.treasury.gov.za/api/cube...</td>\n",
       "    </tr>\n",
       "    <tr>\n",
       "      <th>2</th>\n",
       "      <td>Statement of Financial Performance. How a muni...</td>\n",
       "      <td>Income and Expenditure</td>\n",
       "      <td>incexp</td>\n",
       "      <td>https://municipaldata.treasury.gov.za/api/cube...</td>\n",
       "    </tr>\n",
       "    <tr>\n",
       "      <th>3</th>\n",
       "      <td>Analysis of debtors by age of debt. Does not i...</td>\n",
       "      <td>Aged Debtor Analysis</td>\n",
       "      <td>aged_debtor</td>\n",
       "      <td>https://municipaldata.treasury.gov.za/api/cube...</td>\n",
       "    </tr>\n",
       "    <tr>\n",
       "      <th>4</th>\n",
       "      <td>Purchase, repair and renewal of capital assets.</td>\n",
       "      <td>Capital Acquisition</td>\n",
       "      <td>capital</td>\n",
       "      <td>https://municipaldata.treasury.gov.za/api/cube...</td>\n",
       "    </tr>\n",
       "    <tr>\n",
       "      <th>5</th>\n",
       "      <td>Specific expenditure amounts from audited fina...</td>\n",
       "      <td>Unauthorised, Irregular, Fruitless and Wastefu...</td>\n",
       "      <td>uifwexp</td>\n",
       "      <td>https://municipaldata.treasury.gov.za/api/cube...</td>\n",
       "    </tr>\n",
       "    <tr>\n",
       "      <th>6</th>\n",
       "      <td>The movement of cash into and out of the munic...</td>\n",
       "      <td>Cash Flow</td>\n",
       "      <td>cflow</td>\n",
       "      <td>https://municipaldata.treasury.gov.za/api/cube...</td>\n",
       "    </tr>\n",
       "    <tr>\n",
       "      <th>7</th>\n",
       "      <td>General information about the municipality inc...</td>\n",
       "      <td>Municipalities</td>\n",
       "      <td>municipalities</td>\n",
       "      <td>https://municipaldata.treasury.gov.za/api/cube...</td>\n",
       "    </tr>\n",
       "    <tr>\n",
       "      <th>8</th>\n",
       "      <td>Outcomes of financial statement audits from th...</td>\n",
       "      <td>Audit Opinions</td>\n",
       "      <td>audit_opinions</td>\n",
       "      <td>https://municipaldata.treasury.gov.za/api/cube...</td>\n",
       "    </tr>\n",
       "    <tr>\n",
       "      <th>9</th>\n",
       "      <td>Names and contact information for high level m...</td>\n",
       "      <td>Municipal Officials</td>\n",
       "      <td>officials</td>\n",
       "      <td>https://municipaldata.treasury.gov.za/api/cube...</td>\n",
       "    </tr>\n",
       "    <tr>\n",
       "      <th>10</th>\n",
       "      <td>Changes to municipality demarcation where at l...</td>\n",
       "      <td>Demarcation Changes</td>\n",
       "      <td>demarcation_changes</td>\n",
       "      <td>https://municipaldata.treasury.gov.za/api/cube...</td>\n",
       "    </tr>\n",
       "    <tr>\n",
       "      <th>11</th>\n",
       "      <td>Money spent on repairs and maintenance of assets.</td>\n",
       "      <td>Repairs and Maintenance</td>\n",
       "      <td>repmaint</td>\n",
       "      <td>https://municipaldata.treasury.gov.za/api/cube...</td>\n",
       "    </tr>\n",
       "    <tr>\n",
       "      <th>12</th>\n",
       "      <td>Statement of Financial Position. The assets, l...</td>\n",
       "      <td>Balance Sheet</td>\n",
       "      <td>bsheet</td>\n",
       "      <td>https://municipaldata.treasury.gov.za/api/cube...</td>\n",
       "    </tr>\n",
       "  </tbody>\n",
       "</table>\n",
       "</div>"
      ],
      "text/plain": [
       "                                          description  \\\n",
       "0   Analysis of creditors aggregated by age of deb...   \n",
       "1   Details of grants received from national gover...   \n",
       "2   Statement of Financial Performance. How a muni...   \n",
       "3   Analysis of debtors by age of debt. Does not i...   \n",
       "4     Purchase, repair and renewal of capital assets.   \n",
       "5   Specific expenditure amounts from audited fina...   \n",
       "6   The movement of cash into and out of the munic...   \n",
       "7   General information about the municipality inc...   \n",
       "8   Outcomes of financial statement audits from th...   \n",
       "9   Names and contact information for high level m...   \n",
       "10  Changes to municipality demarcation where at l...   \n",
       "11  Money spent on repairs and maintenance of assets.   \n",
       "12  Statement of Financial Position. The assets, l...   \n",
       "\n",
       "                                                label                 name  \\\n",
       "0                              Aged Creditor Analysis        aged_creditor   \n",
       "1                                  Conditional Grants   conditional_grants   \n",
       "2                              Income and Expenditure               incexp   \n",
       "3                                Aged Debtor Analysis          aged_debtor   \n",
       "4                                 Capital Acquisition              capital   \n",
       "5   Unauthorised, Irregular, Fruitless and Wastefu...              uifwexp   \n",
       "6                                           Cash Flow                cflow   \n",
       "7                                      Municipalities       municipalities   \n",
       "8                                      Audit Opinions       audit_opinions   \n",
       "9                                 Municipal Officials            officials   \n",
       "10                                Demarcation Changes  demarcation_changes   \n",
       "11                            Repairs and Maintenance             repmaint   \n",
       "12                                      Balance Sheet               bsheet   \n",
       "\n",
       "                                                  uri  \n",
       "0   https://municipaldata.treasury.gov.za/api/cube...  \n",
       "1   https://municipaldata.treasury.gov.za/api/cube...  \n",
       "2   https://municipaldata.treasury.gov.za/api/cube...  \n",
       "3   https://municipaldata.treasury.gov.za/api/cube...  \n",
       "4   https://municipaldata.treasury.gov.za/api/cube...  \n",
       "5   https://municipaldata.treasury.gov.za/api/cube...  \n",
       "6   https://municipaldata.treasury.gov.za/api/cube...  \n",
       "7   https://municipaldata.treasury.gov.za/api/cube...  \n",
       "8   https://municipaldata.treasury.gov.za/api/cube...  \n",
       "9   https://municipaldata.treasury.gov.za/api/cube...  \n",
       "10  https://municipaldata.treasury.gov.za/api/cube...  \n",
       "11  https://municipaldata.treasury.gov.za/api/cube...  \n",
       "12  https://municipaldata.treasury.gov.za/api/cube...  "
      ]
     },
     "execution_count": 55,
     "metadata": {},
     "output_type": "execute_result"
    }
   ],
   "source": [
    "data"
   ]
  },
  {
   "cell_type": "code",
   "execution_count": null,
   "metadata": {
    "collapsed": true
   },
   "outputs": [],
   "source": []
  },
  {
   "cell_type": "code",
   "execution_count": null,
   "metadata": {
    "collapsed": true
   },
   "outputs": [],
   "source": [
    "requests.get(test['endpoints'][2], allow_redirects=True).json()"
   ]
  },
  {
   "cell_type": "code",
   "execution_count": 16,
   "metadata": {
    "collapsed": true
   },
   "outputs": [],
   "source": [
    "args = urlencode({'municipality.code':\"BUF\"})"
   ]
  },
  {
   "cell_type": "code",
   "execution_count": 57,
   "metadata": {
    "collapsed": true
   },
   "outputs": [],
   "source": [
    "target_cashflow = 'https://municipaldata.treasury.gov.za/api/cubes/cflow/facts'"
   ]
  },
  {
   "cell_type": "code",
   "execution_count": 29,
   "metadata": {
    "collapsed": true
   },
   "outputs": [],
   "source": [
    "target_munis = 'https://municipaldata.treasury.gov.za/api/cubes//facts'"
   ]
  },
  {
   "cell_type": "code",
   "execution_count": 28,
   "metadata": {
    "collapsed": true
   },
   "outputs": [],
   "source": [
    "target_officials = 'https://municipaldata.treasury.gov.za/api/cubes/officials/facts'"
   ]
  },
  {
   "cell_type": "code",
   "execution_count": 37,
   "metadata": {
    "collapsed": true
   },
   "outputs": [],
   "source": [
    "munis = requests.get(target_munis,allow_redirects=True).json()['data']"
   ]
  },
  {
   "cell_type": "code",
   "execution_count": null,
   "metadata": {
    "collapsed": true
   },
   "outputs": [],
   "source": []
  },
  {
   "cell_type": "code",
   "execution_count": 27,
   "metadata": {},
   "outputs": [],
   "source": [
    "officials = pd.DataFrame(requests.get(target_officials,allow_redirects=True).json()['data'])\n",
    "cashflows = pd.DataFrame(requests.get(target_cashflow,allow_redirects=True).json()['data'])"
   ]
  },
  {
   "cell_type": "code",
   "execution_count": 62,
   "metadata": {},
   "outputs": [],
   "source": []
  },
  {
   "cell_type": "code",
   "execution_count": null,
   "metadata": {
    "collapsed": true
   },
   "outputs": [],
   "source": []
  },
  {
   "cell_type": "code",
   "execution_count": null,
   "metadata": {
    "collapsed": true
   },
   "outputs": [],
   "source": []
  },
  {
   "cell_type": "code",
   "execution_count": 68,
   "metadata": {},
   "outputs": [],
   "source": [
    "municipalities = []\n",
    "\n",
    "for muni in munis:\n",
    "    temp = {}\n",
    "    temp['municipality.demarcation_code'] = muni['municipality.demarcation_code']\n",
    "    temp['name'] = muni['municipality.name']\n",
    "    temp['province'] = muni['municipality.province_name']\n",
    "    temp['category'] = muni['municipality.miif_category']\n",
    "    temp['area'] = muni['area']\n",
    "    municipalities.append(temp)\n",
    "municipalities = pd.DataFrame(municipalities)"
   ]
  },
  {
   "cell_type": "code",
   "execution_count": 70,
   "metadata": {},
   "outputs": [],
   "source": []
  },
  {
   "cell_type": "code",
   "execution_count": 50,
   "metadata": {},
   "outputs": [],
   "source": [
    "officials = officials['data']"
   ]
  },
  {
   "cell_type": "code",
   "execution_count": 53,
   "metadata": {},
   "outputs": [],
   "source": [
    "officials = pd.DataFrame(officials)"
   ]
  },
  {
   "cell_type": "code",
   "execution_count": 69,
   "metadata": {},
   "outputs": [
    {
     "data": {
      "text/plain": [
       "Index(['contact_details.email_address', 'contact_details.fax_number',\n",
       "       'contact_details.name', 'contact_details.phone_number',\n",
       "       'contact_details.title', 'municipality.demarcation_code', 'role.role'],\n",
       "      dtype='object')"
      ]
     },
     "execution_count": 69,
     "metadata": {},
     "output_type": "execute_result"
    }
   ],
   "source": [
    "officials.columns"
   ]
  },
  {
   "cell_type": "code",
   "execution_count": 72,
   "metadata": {},
   "outputs": [
    {
     "data": {
      "text/plain": [
       "Index(['area', 'category', 'municipality.demarcation_code', 'name',\n",
       "       'province'],\n",
       "      dtype='object')"
      ]
     },
     "execution_count": 72,
     "metadata": {},
     "output_type": "execute_result"
    }
   ],
   "source": [
    "municipalities.columns"
   ]
  },
  {
   "cell_type": "code",
   "execution_count": null,
   "metadata": {
    "collapsed": true
   },
   "outputs": [],
   "source": []
  },
  {
   "cell_type": "code",
   "execution_count": null,
   "metadata": {
    "collapsed": true
   },
   "outputs": [],
   "source": []
  },
  {
   "cell_type": "code",
   "execution_count": 75,
   "metadata": {
    "scrolled": false
   },
   "outputs": [
    {
     "data": {
      "text/html": [
       "<div>\n",
       "<style>\n",
       "    .dataframe thead tr:only-child th {\n",
       "        text-align: right;\n",
       "    }\n",
       "\n",
       "    .dataframe thead th {\n",
       "        text-align: left;\n",
       "    }\n",
       "\n",
       "    .dataframe tbody tr th {\n",
       "        vertical-align: top;\n",
       "    }\n",
       "</style>\n",
       "<table border=\"1\" class=\"dataframe\">\n",
       "  <thead>\n",
       "    <tr style=\"text-align: right;\">\n",
       "      <th></th>\n",
       "      <th>area</th>\n",
       "      <th>category</th>\n",
       "      <th>municipality.demarcation_code</th>\n",
       "      <th>name</th>\n",
       "      <th>province</th>\n",
       "      <th>contact_details.email_address</th>\n",
       "      <th>contact_details.fax_number</th>\n",
       "      <th>contact_details.name</th>\n",
       "      <th>contact_details.phone_number</th>\n",
       "      <th>role.role</th>\n",
       "    </tr>\n",
       "    <tr>\n",
       "      <th>contact_details.title</th>\n",
       "      <th></th>\n",
       "      <th></th>\n",
       "      <th></th>\n",
       "      <th></th>\n",
       "      <th></th>\n",
       "      <th></th>\n",
       "      <th></th>\n",
       "      <th></th>\n",
       "      <th></th>\n",
       "      <th></th>\n",
       "    </tr>\n",
       "  </thead>\n",
       "  <tbody>\n",
       "    <tr>\n",
       "      <th>Adv</th>\n",
       "      <td>5</td>\n",
       "      <td>5</td>\n",
       "      <td>5</td>\n",
       "      <td>5</td>\n",
       "      <td>5</td>\n",
       "      <td>5</td>\n",
       "      <td>5</td>\n",
       "      <td>5</td>\n",
       "      <td>5</td>\n",
       "      <td>5</td>\n",
       "    </tr>\n",
       "    <tr>\n",
       "      <th>Cllr</th>\n",
       "      <td>169</td>\n",
       "      <td>169</td>\n",
       "      <td>169</td>\n",
       "      <td>169</td>\n",
       "      <td>169</td>\n",
       "      <td>157</td>\n",
       "      <td>169</td>\n",
       "      <td>169</td>\n",
       "      <td>169</td>\n",
       "      <td>169</td>\n",
       "    </tr>\n",
       "    <tr>\n",
       "      <th>Dr</th>\n",
       "      <td>13</td>\n",
       "      <td>13</td>\n",
       "      <td>13</td>\n",
       "      <td>13</td>\n",
       "      <td>13</td>\n",
       "      <td>13</td>\n",
       "      <td>13</td>\n",
       "      <td>13</td>\n",
       "      <td>13</td>\n",
       "      <td>13</td>\n",
       "    </tr>\n",
       "    <tr>\n",
       "      <th>Mr</th>\n",
       "      <td>789</td>\n",
       "      <td>789</td>\n",
       "      <td>789</td>\n",
       "      <td>789</td>\n",
       "      <td>789</td>\n",
       "      <td>779</td>\n",
       "      <td>773</td>\n",
       "      <td>788</td>\n",
       "      <td>784</td>\n",
       "      <td>789</td>\n",
       "    </tr>\n",
       "    <tr>\n",
       "      <th>Mrs</th>\n",
       "      <td>280</td>\n",
       "      <td>280</td>\n",
       "      <td>280</td>\n",
       "      <td>280</td>\n",
       "      <td>280</td>\n",
       "      <td>278</td>\n",
       "      <td>272</td>\n",
       "      <td>280</td>\n",
       "      <td>279</td>\n",
       "      <td>280</td>\n",
       "    </tr>\n",
       "    <tr>\n",
       "      <th>Ms</th>\n",
       "      <td>833</td>\n",
       "      <td>833</td>\n",
       "      <td>833</td>\n",
       "      <td>833</td>\n",
       "      <td>833</td>\n",
       "      <td>824</td>\n",
       "      <td>806</td>\n",
       "      <td>833</td>\n",
       "      <td>831</td>\n",
       "      <td>833</td>\n",
       "    </tr>\n",
       "  </tbody>\n",
       "</table>\n",
       "</div>"
      ],
      "text/plain": [
       "                       area  category  municipality.demarcation_code  name  \\\n",
       "contact_details.title                                                        \n",
       "Adv                       5         5                              5     5   \n",
       "Cllr                    169       169                            169   169   \n",
       "Dr                       13        13                             13    13   \n",
       "Mr                      789       789                            789   789   \n",
       "Mrs                     280       280                            280   280   \n",
       "Ms                      833       833                            833   833   \n",
       "\n",
       "                       province  contact_details.email_address  \\\n",
       "contact_details.title                                            \n",
       "Adv                           5                              5   \n",
       "Cllr                        169                            157   \n",
       "Dr                           13                             13   \n",
       "Mr                          789                            779   \n",
       "Mrs                         280                            278   \n",
       "Ms                          833                            824   \n",
       "\n",
       "                       contact_details.fax_number  contact_details.name  \\\n",
       "contact_details.title                                                     \n",
       "Adv                                             5                     5   \n",
       "Cllr                                          169                   169   \n",
       "Dr                                             13                    13   \n",
       "Mr                                            773                   788   \n",
       "Mrs                                           272                   280   \n",
       "Ms                                            806                   833   \n",
       "\n",
       "                       contact_details.phone_number  role.role  \n",
       "contact_details.title                                           \n",
       "Adv                                               5          5  \n",
       "Cllr                                            169        169  \n",
       "Dr                                               13         13  \n",
       "Mr                                              784        789  \n",
       "Mrs                                             279        280  \n",
       "Ms                                              831        833  "
      ]
     },
     "execution_count": 75,
     "metadata": {},
     "output_type": "execute_result"
    }
   ],
   "source": [
    "pd.merge(municipalities, officials, how='inner', on='municipality.demarcation_code').groupby('contact_details.title').count()"
   ]
  }
 ],
 "metadata": {
  "kernelspec": {
   "display_name": "Python 3",
   "language": "python",
   "name": "python3"
  },
  "language_info": {
   "codemirror_mode": {
    "name": "ipython",
    "version": 3
   },
   "file_extension": ".py",
   "mimetype": "text/x-python",
   "name": "python",
   "nbconvert_exporter": "python",
   "pygments_lexer": "ipython3",
   "version": "3.6.3"
  }
 },
 "nbformat": 4,
 "nbformat_minor": 2
}
